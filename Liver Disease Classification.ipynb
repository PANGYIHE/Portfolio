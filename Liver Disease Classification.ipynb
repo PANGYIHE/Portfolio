{
  "nbformat": 4,
  "nbformat_minor": 0,
  "metadata": {
    "colab": {
      "provenance": [],
      "include_colab_link": true
    },
    "kernelspec": {
      "name": "python3",
      "display_name": "Python 3"
    },
    "language_info": {
      "name": "python"
    }
  },
  "cells": [
    {
      "cell_type": "markdown",
      "metadata": {
        "id": "view-in-github",
        "colab_type": "text"
      },
      "source": [
        "<a href=\"https://colab.research.google.com/github/yhpslayy/PANGYIHE-Portfolio/blob/main/Liver%20Disease%20Classification.ipynb\" target=\"_parent\"><img src=\"https://colab.research.google.com/assets/colab-badge.svg\" alt=\"Open In Colab\"/></a>"
      ]
    },
    {
      "cell_type": "code",
      "execution_count": null,
      "metadata": {
        "id": "z4fHKWwnNeBI"
      },
      "outputs": [],
      "source": [
        "#Importing necessary Libraries\n",
        "import numpy as np\n",
        "import pandas as pd\n",
        "import tensorflow as tf\n",
        "from sklearn.model_selection import train_test_split\n",
        "from sklearn.preprocessing import StandardScaler\n",
        "from sklearn.metrics import mean_squared_error, accuracy_score"
      ]
    },
    {
      "cell_type": "code",
      "source": [
        "#Install Kaggle API\n",
        "!pip install kaggle"
      ],
      "metadata": {
        "colab": {
          "base_uri": "https://localhost:8080/"
        },
        "id": "KRgik2cSNlxB",
        "outputId": "6eb00f55-f51c-4815-fadf-068402e64e0f"
      },
      "execution_count": null,
      "outputs": [
        {
          "output_type": "stream",
          "name": "stdout",
          "text": [
            "Requirement already satisfied: kaggle in /usr/local/lib/python3.10/dist-packages (1.6.17)\n",
            "Requirement already satisfied: six>=1.10 in /usr/local/lib/python3.10/dist-packages (from kaggle) (1.16.0)\n",
            "Requirement already satisfied: certifi>=2023.7.22 in /usr/local/lib/python3.10/dist-packages (from kaggle) (2024.8.30)\n",
            "Requirement already satisfied: python-dateutil in /usr/local/lib/python3.10/dist-packages (from kaggle) (2.8.2)\n",
            "Requirement already satisfied: requests in /usr/local/lib/python3.10/dist-packages (from kaggle) (2.32.3)\n",
            "Requirement already satisfied: tqdm in /usr/local/lib/python3.10/dist-packages (from kaggle) (4.66.6)\n",
            "Requirement already satisfied: python-slugify in /usr/local/lib/python3.10/dist-packages (from kaggle) (8.0.4)\n",
            "Requirement already satisfied: urllib3 in /usr/local/lib/python3.10/dist-packages (from kaggle) (2.2.3)\n",
            "Requirement already satisfied: bleach in /usr/local/lib/python3.10/dist-packages (from kaggle) (6.2.0)\n",
            "Requirement already satisfied: webencodings in /usr/local/lib/python3.10/dist-packages (from bleach->kaggle) (0.5.1)\n",
            "Requirement already satisfied: text-unidecode>=1.3 in /usr/local/lib/python3.10/dist-packages (from python-slugify->kaggle) (1.3)\n",
            "Requirement already satisfied: charset-normalizer<4,>=2 in /usr/local/lib/python3.10/dist-packages (from requests->kaggle) (3.4.0)\n",
            "Requirement already satisfied: idna<4,>=2.5 in /usr/local/lib/python3.10/dist-packages (from requests->kaggle) (3.10)\n"
          ]
        }
      ]
    },
    {
      "cell_type": "code",
      "source": [
        "# Upload Kaggle API key\n",
        "from google.colab import files\n",
        "files.upload()"
      ],
      "metadata": {
        "colab": {
          "base_uri": "https://localhost:8080/",
          "height": 90
        },
        "id": "l75pi5ncNpNQ",
        "outputId": "57ed9200-1c4c-4d57-ed29-a4aadb60e64c"
      },
      "execution_count": null,
      "outputs": [
        {
          "output_type": "display_data",
          "data": {
            "text/plain": [
              "<IPython.core.display.HTML object>"
            ],
            "text/html": [
              "\n",
              "     <input type=\"file\" id=\"files-01a84382-8d0b-4da4-9da1-77faaa6e52ee\" name=\"files[]\" multiple disabled\n",
              "        style=\"border:none\" />\n",
              "     <output id=\"result-01a84382-8d0b-4da4-9da1-77faaa6e52ee\">\n",
              "      Upload widget is only available when the cell has been executed in the\n",
              "      current browser session. Please rerun this cell to enable.\n",
              "      </output>\n",
              "      <script>// Copyright 2017 Google LLC\n",
              "//\n",
              "// Licensed under the Apache License, Version 2.0 (the \"License\");\n",
              "// you may not use this file except in compliance with the License.\n",
              "// You may obtain a copy of the License at\n",
              "//\n",
              "//      http://www.apache.org/licenses/LICENSE-2.0\n",
              "//\n",
              "// Unless required by applicable law or agreed to in writing, software\n",
              "// distributed under the License is distributed on an \"AS IS\" BASIS,\n",
              "// WITHOUT WARRANTIES OR CONDITIONS OF ANY KIND, either express or implied.\n",
              "// See the License for the specific language governing permissions and\n",
              "// limitations under the License.\n",
              "\n",
              "/**\n",
              " * @fileoverview Helpers for google.colab Python module.\n",
              " */\n",
              "(function(scope) {\n",
              "function span(text, styleAttributes = {}) {\n",
              "  const element = document.createElement('span');\n",
              "  element.textContent = text;\n",
              "  for (const key of Object.keys(styleAttributes)) {\n",
              "    element.style[key] = styleAttributes[key];\n",
              "  }\n",
              "  return element;\n",
              "}\n",
              "\n",
              "// Max number of bytes which will be uploaded at a time.\n",
              "const MAX_PAYLOAD_SIZE = 100 * 1024;\n",
              "\n",
              "function _uploadFiles(inputId, outputId) {\n",
              "  const steps = uploadFilesStep(inputId, outputId);\n",
              "  const outputElement = document.getElementById(outputId);\n",
              "  // Cache steps on the outputElement to make it available for the next call\n",
              "  // to uploadFilesContinue from Python.\n",
              "  outputElement.steps = steps;\n",
              "\n",
              "  return _uploadFilesContinue(outputId);\n",
              "}\n",
              "\n",
              "// This is roughly an async generator (not supported in the browser yet),\n",
              "// where there are multiple asynchronous steps and the Python side is going\n",
              "// to poll for completion of each step.\n",
              "// This uses a Promise to block the python side on completion of each step,\n",
              "// then passes the result of the previous step as the input to the next step.\n",
              "function _uploadFilesContinue(outputId) {\n",
              "  const outputElement = document.getElementById(outputId);\n",
              "  const steps = outputElement.steps;\n",
              "\n",
              "  const next = steps.next(outputElement.lastPromiseValue);\n",
              "  return Promise.resolve(next.value.promise).then((value) => {\n",
              "    // Cache the last promise value to make it available to the next\n",
              "    // step of the generator.\n",
              "    outputElement.lastPromiseValue = value;\n",
              "    return next.value.response;\n",
              "  });\n",
              "}\n",
              "\n",
              "/**\n",
              " * Generator function which is called between each async step of the upload\n",
              " * process.\n",
              " * @param {string} inputId Element ID of the input file picker element.\n",
              " * @param {string} outputId Element ID of the output display.\n",
              " * @return {!Iterable<!Object>} Iterable of next steps.\n",
              " */\n",
              "function* uploadFilesStep(inputId, outputId) {\n",
              "  const inputElement = document.getElementById(inputId);\n",
              "  inputElement.disabled = false;\n",
              "\n",
              "  const outputElement = document.getElementById(outputId);\n",
              "  outputElement.innerHTML = '';\n",
              "\n",
              "  const pickedPromise = new Promise((resolve) => {\n",
              "    inputElement.addEventListener('change', (e) => {\n",
              "      resolve(e.target.files);\n",
              "    });\n",
              "  });\n",
              "\n",
              "  const cancel = document.createElement('button');\n",
              "  inputElement.parentElement.appendChild(cancel);\n",
              "  cancel.textContent = 'Cancel upload';\n",
              "  const cancelPromise = new Promise((resolve) => {\n",
              "    cancel.onclick = () => {\n",
              "      resolve(null);\n",
              "    };\n",
              "  });\n",
              "\n",
              "  // Wait for the user to pick the files.\n",
              "  const files = yield {\n",
              "    promise: Promise.race([pickedPromise, cancelPromise]),\n",
              "    response: {\n",
              "      action: 'starting',\n",
              "    }\n",
              "  };\n",
              "\n",
              "  cancel.remove();\n",
              "\n",
              "  // Disable the input element since further picks are not allowed.\n",
              "  inputElement.disabled = true;\n",
              "\n",
              "  if (!files) {\n",
              "    return {\n",
              "      response: {\n",
              "        action: 'complete',\n",
              "      }\n",
              "    };\n",
              "  }\n",
              "\n",
              "  for (const file of files) {\n",
              "    const li = document.createElement('li');\n",
              "    li.append(span(file.name, {fontWeight: 'bold'}));\n",
              "    li.append(span(\n",
              "        `(${file.type || 'n/a'}) - ${file.size} bytes, ` +\n",
              "        `last modified: ${\n",
              "            file.lastModifiedDate ? file.lastModifiedDate.toLocaleDateString() :\n",
              "                                    'n/a'} - `));\n",
              "    const percent = span('0% done');\n",
              "    li.appendChild(percent);\n",
              "\n",
              "    outputElement.appendChild(li);\n",
              "\n",
              "    const fileDataPromise = new Promise((resolve) => {\n",
              "      const reader = new FileReader();\n",
              "      reader.onload = (e) => {\n",
              "        resolve(e.target.result);\n",
              "      };\n",
              "      reader.readAsArrayBuffer(file);\n",
              "    });\n",
              "    // Wait for the data to be ready.\n",
              "    let fileData = yield {\n",
              "      promise: fileDataPromise,\n",
              "      response: {\n",
              "        action: 'continue',\n",
              "      }\n",
              "    };\n",
              "\n",
              "    // Use a chunked sending to avoid message size limits. See b/62115660.\n",
              "    let position = 0;\n",
              "    do {\n",
              "      const length = Math.min(fileData.byteLength - position, MAX_PAYLOAD_SIZE);\n",
              "      const chunk = new Uint8Array(fileData, position, length);\n",
              "      position += length;\n",
              "\n",
              "      const base64 = btoa(String.fromCharCode.apply(null, chunk));\n",
              "      yield {\n",
              "        response: {\n",
              "          action: 'append',\n",
              "          file: file.name,\n",
              "          data: base64,\n",
              "        },\n",
              "      };\n",
              "\n",
              "      let percentDone = fileData.byteLength === 0 ?\n",
              "          100 :\n",
              "          Math.round((position / fileData.byteLength) * 100);\n",
              "      percent.textContent = `${percentDone}% done`;\n",
              "\n",
              "    } while (position < fileData.byteLength);\n",
              "  }\n",
              "\n",
              "  // All done.\n",
              "  yield {\n",
              "    response: {\n",
              "      action: 'complete',\n",
              "    }\n",
              "  };\n",
              "}\n",
              "\n",
              "scope.google = scope.google || {};\n",
              "scope.google.colab = scope.google.colab || {};\n",
              "scope.google.colab._files = {\n",
              "  _uploadFiles,\n",
              "  _uploadFilesContinue,\n",
              "};\n",
              "})(self);\n",
              "</script> "
            ]
          },
          "metadata": {}
        },
        {
          "output_type": "stream",
          "name": "stdout",
          "text": [
            "Saving kaggle.json to kaggle (1).json\n"
          ]
        },
        {
          "output_type": "execute_result",
          "data": {
            "text/plain": [
              "{'kaggle (1).json': b'{\"username\":\"pangyihe\",\"key\":\"2b3db9b17102702b4d30736bdf6efef5\"}'}"
            ]
          },
          "metadata": {},
          "execution_count": 31
        }
      ]
    },
    {
      "cell_type": "code",
      "source": [
        "# Create a Kaggle Folder\n",
        "!mkdir ~/.kaggle"
      ],
      "metadata": {
        "id": "igdQ__LTNwqF"
      },
      "execution_count": null,
      "outputs": []
    },
    {
      "cell_type": "code",
      "source": [
        "# Copy the kaggle.json to folder created\n",
        "!cp kaggle.json ~/.kaggle/"
      ],
      "metadata": {
        "id": "tvIgzR-SNyoI"
      },
      "execution_count": null,
      "outputs": []
    },
    {
      "cell_type": "code",
      "source": [
        "# Permission for the json to act\n",
        "!chmod 600 ~/.kaggle/kaggle.json"
      ],
      "metadata": {
        "id": "lgrMQAYVN2HQ"
      },
      "execution_count": null,
      "outputs": []
    },
    {
      "cell_type": "code",
      "source": [
        "# List all datasets in Kaggle\n",
        "! kaggle datasets list"
      ],
      "metadata": {
        "colab": {
          "base_uri": "https://localhost:8080/"
        },
        "id": "KpZo1UpFN4Rg",
        "outputId": "fbf32430-4f5b-4071-9828-dc53d245c78c"
      },
      "execution_count": null,
      "outputs": [
        {
          "output_type": "stream",
          "name": "stdout",
          "text": [
            "ref                                                              title                                           size  lastUpdated          downloadCount  voteCount  usabilityRating  \n",
            "---------------------------------------------------------------  ---------------------------------------------  -----  -------------------  -------------  ---------  ---------------  \n",
            "valakhorasani/mobile-device-usage-and-user-behavior-dataset      Mobile Device Usage and User Behavior Dataset   11KB  2024-09-28 20:21:12          21917        454  1.0              \n",
            "muhammadroshaanriaz/students-performance-dataset-cleaned         Students Performance | Clean Dataset            10KB  2024-10-29 19:32:26           2369         49  1.0              \n",
            "valakhorasani/gym-members-exercise-dataset                       Gym Members Exercise Dataset                    22KB  2024-10-06 11:27:38          12464        185  1.0              \n",
            "whisperingkahuna/premier-league-2324-team-and-player-insights    Premier League 23/24 ⚽: Team & Player Stats 📊  196KB  2024-10-30 08:59:41           1018         27  1.0              \n",
            "kanchana1990/real-estate-data-london-2024                        Real Estate Data London 2024                   559KB  2024-11-06 21:15:31            513         29  1.0              \n",
            "bhadramohit/mental-health-dataset                                Mental Health Dataset                           13KB  2024-10-22 12:08:16           1238         21  1.0              \n",
            "valakhorasani/bank-transaction-dataset-for-fraud-detection       Bank Transaction Dataset for Fraud Detection   102KB  2024-11-04 09:23:49           1128         31  1.0              \n",
            "taweilo/loan-approval-classification-data                        Loan Approval Classification Dataset           751KB  2024-10-29 04:07:34           2387         45  1.0              \n",
            "yusufdelikkaya/imdb-movie-dataset                                IMDB Movie Dataset                             134KB  2024-10-30 16:52:53           1780         34  0.88235295       \n",
            "essarabi/ultimate-us-election-dataset                            US Election Dataset                            286KB  2024-11-06 10:11:55            564         26  0.9411765        \n",
            "fatihyavuzz/smartphone-sales                                     Smartphone_sales                                27KB  2024-11-07 14:39:31            576         32  0.8235294        \n",
            "brsahan/data-science-job                                         Data Science Job                                80KB  2024-11-03 10:13:11            903         37  1.0              \n",
            "bhadramohit/social-media-usage-datasetapplications               Social Media Usage Dataset(Applications)         9KB  2024-10-23 05:33:28           1677         28  1.0              \n",
            "bhadramohit/agriculture-and-farming-dataset                      Agriculture and Farming Dataset                  2KB  2024-10-20 14:48:21           1542         30  1.0              \n",
            "jacopoferretti/wages-and-education-of-young-males-dataset        Wages and Education of Young Males Dataset      72KB  2024-10-31 21:07:44            772         25  1.0              \n",
            "octopusteam/full-amazon-prime-dataset                            Full Amazon Prime Dataset                        2MB  2024-11-09 09:01:43           1464         27  1.0              \n",
            "akashbommidi/super-market-sales                                  Super Market Sales                              36KB  2024-10-25 09:19:12           2041         22  0.8235294        \n",
            "prajwaldongre/global-plastic-waste-2023-a-country-wise-analysis  Global Plastic Waste 2023: Country-wise Data     3KB  2024-10-31 11:34:47           1765         34  1.0              \n",
            "jahnavipaliwal/customer-feedback-and-satisfaction                Customer Feedback and Satisfaction             549KB  2024-10-18 01:25:30           1507         21  1.0              \n",
            "yusufdelikkaya/online-sales-dataset                              Online Sales Dataset                             1MB  2024-10-29 10:08:40           2140         39  0.88235295       \n"
          ]
        }
      ]
    },
    {
      "cell_type": "code",
      "source": [
        "# Choose datasets in Kaggle\n",
        "!kaggle datasets download -d rabieelkharoua/predict-liver-disease-1700-records-dataset"
      ],
      "metadata": {
        "colab": {
          "base_uri": "https://localhost:8080/"
        },
        "id": "D2Iw3EBlN6tC",
        "outputId": "b4e88deb-e12d-4f90-e406-a64228df6021"
      },
      "execution_count": null,
      "outputs": [
        {
          "output_type": "stream",
          "name": "stdout",
          "text": [
            "Dataset URL: https://www.kaggle.com/datasets/rabieelkharoua/predict-liver-disease-1700-records-dataset\n",
            "License(s): Attribution 4.0 International (CC BY 4.0)\n",
            "Downloading predict-liver-disease-1700-records-dataset.zip to /content\n",
            "  0% 0.00/69.6k [00:00<?, ?B/s]\n",
            "100% 69.6k/69.6k [00:00<00:00, 58.8MB/s]\n"
          ]
        }
      ]
    },
    {
      "cell_type": "code",
      "source": [
        "# Unzip datasets file\n",
        "!unzip predict-liver-disease-1700-records-dataset.zip"
      ],
      "metadata": {
        "colab": {
          "base_uri": "https://localhost:8080/"
        },
        "id": "bDOjRynhN-mG",
        "outputId": "687d0656-f5e5-4bc1-9c08-e45904703600"
      },
      "execution_count": null,
      "outputs": [
        {
          "output_type": "stream",
          "name": "stdout",
          "text": [
            "Archive:  predict-liver-disease-1700-records-dataset.zip\n",
            "  inflating: Liver_disease_data.csv  \n"
          ]
        }
      ]
    },
    {
      "cell_type": "code",
      "source": [
        "#Loading Dataset\n",
        "data = pd.read_csv(\"Liver_disease_data.csv\")"
      ],
      "metadata": {
        "id": "T8d5oTq7OD27"
      },
      "execution_count": null,
      "outputs": []
    },
    {
      "cell_type": "code",
      "source": [
        "# Display first few rows\n",
        "print(data.head())"
      ],
      "metadata": {
        "colab": {
          "base_uri": "https://localhost:8080/"
        },
        "id": "MJboCGd-OKSb",
        "outputId": "48009fc9-dd71-421f-cd4e-ccdec8e4a006"
      },
      "execution_count": null,
      "outputs": [
        {
          "output_type": "stream",
          "name": "stdout",
          "text": [
            "   Age  Gender        BMI  AlcoholConsumption  Smoking  GeneticRisk  \\\n",
            "0   58       0  35.857584           17.272828        0            1   \n",
            "1   71       1  30.732470            2.201266        0            1   \n",
            "2   48       0  19.971407           18.500944        0            0   \n",
            "3   34       1  16.615417           12.632870        0            0   \n",
            "4   62       1  16.065830            1.087815        0            1   \n",
            "\n",
            "   PhysicalActivity  Diabetes  Hypertension  LiverFunctionTest  Diagnosis  \n",
            "0          0.658940         0             0          42.734240          1  \n",
            "1          1.670557         1             0          67.309822          1  \n",
            "2          9.928308         0             0          63.738956          0  \n",
            "3          5.630129         0             0          64.555873          1  \n",
            "4          3.566218         1             0          77.868689          1  \n"
          ]
        }
      ]
    },
    {
      "cell_type": "code",
      "source": [
        "# Display dataset information\n",
        "print(data.info())\n",
        "print(data.describe())"
      ],
      "metadata": {
        "colab": {
          "base_uri": "https://localhost:8080/"
        },
        "id": "e6wwnLF6OOaJ",
        "outputId": "36130031-729a-40d2-cd3f-9ba220a39653"
      },
      "execution_count": null,
      "outputs": [
        {
          "output_type": "stream",
          "name": "stdout",
          "text": [
            "<class 'pandas.core.frame.DataFrame'>\n",
            "RangeIndex: 1700 entries, 0 to 1699\n",
            "Data columns (total 11 columns):\n",
            " #   Column              Non-Null Count  Dtype  \n",
            "---  ------              --------------  -----  \n",
            " 0   Age                 1700 non-null   int64  \n",
            " 1   Gender              1700 non-null   int64  \n",
            " 2   BMI                 1700 non-null   float64\n",
            " 3   AlcoholConsumption  1700 non-null   float64\n",
            " 4   Smoking             1700 non-null   int64  \n",
            " 5   GeneticRisk         1700 non-null   int64  \n",
            " 6   PhysicalActivity    1700 non-null   float64\n",
            " 7   Diabetes            1700 non-null   int64  \n",
            " 8   Hypertension        1700 non-null   int64  \n",
            " 9   LiverFunctionTest   1700 non-null   float64\n",
            " 10  Diagnosis           1700 non-null   int64  \n",
            "dtypes: float64(4), int64(7)\n",
            "memory usage: 146.2 KB\n",
            "None\n",
            "               Age       Gender          BMI  AlcoholConsumption      Smoking  \\\n",
            "count  1700.000000  1700.000000  1700.000000         1700.000000  1700.000000   \n",
            "mean     50.394118     0.504118    27.699801            9.832309     0.291765   \n",
            "std      17.641915     0.500130     7.210400            5.757472     0.454708   \n",
            "min      20.000000     0.000000    15.004710            0.003731     0.000000   \n",
            "25%      35.000000     0.000000    21.455414            4.841811     0.000000   \n",
            "50%      51.000000     1.000000    27.925367            9.828195     0.000000   \n",
            "75%      66.000000     1.000000    33.957668           14.871671     1.000000   \n",
            "max      80.000000     1.000000    39.992845           19.952456     1.000000   \n",
            "\n",
            "       GeneticRisk  PhysicalActivity     Diabetes  Hypertension  \\\n",
            "count  1700.000000       1700.000000  1700.000000   1700.000000   \n",
            "mean      0.521765          5.000993     0.142353      0.154706   \n",
            "std       0.666262          2.847074     0.349515      0.361730   \n",
            "min       0.000000          0.001852     0.000000      0.000000   \n",
            "25%       0.000000          2.622121     0.000000      0.000000   \n",
            "50%       0.000000          5.022883     0.000000      0.000000   \n",
            "75%       1.000000          7.401642     0.000000      0.000000   \n",
            "max       2.000000          9.994964     1.000000      1.000000   \n",
            "\n",
            "       LiverFunctionTest    Diagnosis  \n",
            "count        1700.000000  1700.000000  \n",
            "mean           59.863867     0.550588  \n",
            "std            22.996262     0.497581  \n",
            "min            20.019254     0.000000  \n",
            "25%            40.024216     0.000000  \n",
            "50%            59.513146     1.000000  \n",
            "75%            79.428755     1.000000  \n",
            "max            99.991413     1.000000  \n"
          ]
        }
      ]
    },
    {
      "cell_type": "code",
      "source": [
        "# Checking for missing values\n",
        "print(data.isnull().sum())"
      ],
      "metadata": {
        "colab": {
          "base_uri": "https://localhost:8080/"
        },
        "id": "1NOXYyMdOfIK",
        "outputId": "794b4370-e9f2-452d-b57a-bf236692a23c"
      },
      "execution_count": null,
      "outputs": [
        {
          "output_type": "stream",
          "name": "stdout",
          "text": [
            "Age                   0\n",
            "Gender                0\n",
            "BMI                   0\n",
            "AlcoholConsumption    0\n",
            "Smoking               0\n",
            "GeneticRisk           0\n",
            "PhysicalActivity      0\n",
            "Diabetes              0\n",
            "Hypertension          0\n",
            "LiverFunctionTest     0\n",
            "Diagnosis             0\n",
            "dtype: int64\n"
          ]
        }
      ]
    },
    {
      "cell_type": "code",
      "source": [
        "# Drop rows with any missing values\n",
        "data_cleaned = data.dropna()"
      ],
      "metadata": {
        "id": "IEaBMQrsOnsb"
      },
      "execution_count": null,
      "outputs": []
    },
    {
      "cell_type": "code",
      "source": [
        "# Verify the number of rows before and after dropping\n",
        "print(f\"Number of rows before dropping missing values: {data.shape[0]}\")\n",
        "print(f\"Number of rows after dropping missing values: {data_cleaned.shape[0]}\")"
      ],
      "metadata": {
        "colab": {
          "base_uri": "https://localhost:8080/"
        },
        "id": "fHtbNNXzOrR3",
        "outputId": "41f52660-f1e9-490f-f196-e99658c7d37c"
      },
      "execution_count": null,
      "outputs": [
        {
          "output_type": "stream",
          "name": "stdout",
          "text": [
            "Number of rows before dropping missing values: 1700\n",
            "Number of rows after dropping missing values: 1700\n"
          ]
        }
      ]
    },
    {
      "cell_type": "code",
      "source": [
        "# Define the feature columns and the target column\n",
        "feature_columns = [\n",
        "    'Age', 'Gender', 'BMI', 'AlcoholConsumption', 'Smoking',\n",
        "    'GeneticRisk', 'PhysicalActivity', 'Diabetes', 'Hypertension',\n",
        "    'LiverFunctionTest'\n",
        "]\n",
        "target_column = 'Diagnosis'"
      ],
      "metadata": {
        "id": "iWYa44uwOuz0"
      },
      "execution_count": null,
      "outputs": []
    },
    {
      "cell_type": "code",
      "source": [
        "# Extract features and target\n",
        "X = data_cleaned[feature_columns].values\n",
        "y = data_cleaned[target_column].values"
      ],
      "metadata": {
        "id": "0pXLp0cJa0EW"
      },
      "execution_count": null,
      "outputs": []
    },
    {
      "cell_type": "code",
      "source": [
        "# Print the extracted features and target\n",
        "print(\"Features (X):\")\n",
        "print(X)\n",
        "print(\"Target (y):\")\n",
        "print(y)"
      ],
      "metadata": {
        "colab": {
          "base_uri": "https://localhost:8080/"
        },
        "id": "tCrGvRqla2Gy",
        "outputId": "4aef1b3c-566c-452d-e01d-9b8a4e4938e7"
      },
      "execution_count": null,
      "outputs": [
        {
          "output_type": "stream",
          "name": "stdout",
          "text": [
            "Features (X):\n",
            "[[58.          0.         35.85758415 ...  0.          0.\n",
            "  42.73424003]\n",
            " [71.          1.         30.73247015 ...  1.          0.\n",
            "  67.3098216 ]\n",
            " [48.          0.         19.97140694 ...  0.          0.\n",
            "  63.73895584]\n",
            " ...\n",
            " [38.          0.         38.73001733 ...  0.          1.\n",
            "  56.05336965]\n",
            " [67.          0.         35.82079755 ...  0.          0.\n",
            "  26.30087464]\n",
            " [80.          0.         24.06078307 ...  0.          1.\n",
            "  73.57289293]]\n",
            "Target (y):\n",
            "[1 1 0 ... 1 1 1]\n"
          ]
        }
      ]
    },
    {
      "cell_type": "code",
      "source": [
        "# Split the data into training and testing sets\n",
        "X_train, X_test, y_train, y_test = train_test_split(X, y, test_size=0.2, random_state=42)"
      ],
      "metadata": {
        "id": "rY85qT_Jcw2g"
      },
      "execution_count": null,
      "outputs": []
    },
    {
      "cell_type": "code",
      "source": [
        "# Standardize the feature data\n",
        "scaler = StandardScaler()\n",
        "X_train = scaler.fit_transform(X_train)\n",
        "X_test = scaler.transform(X_test)"
      ],
      "metadata": {
        "id": "a8RQ6mCtg4ix"
      },
      "execution_count": null,
      "outputs": []
    },
    {
      "cell_type": "code",
      "source": [
        "# Print the standardized data\n",
        "print(\"Standardized Training Features:\")\n",
        "print(X_train)\n",
        "print(\"Standardized Testing Features:\")\n",
        "print(X_test)"
      ],
      "metadata": {
        "colab": {
          "base_uri": "https://localhost:8080/"
        },
        "id": "im-liDOhhSLE",
        "outputId": "28560dfc-7e26-4f72-d81a-e483b479c488"
      },
      "execution_count": null,
      "outputs": [
        {
          "output_type": "stream",
          "name": "stdout",
          "text": [
            "Standardized Training Features:\n",
            "[[-0.32476245 -0.97817919 -0.60550947 ... -0.4152274  -0.4297313\n",
            "  -0.93442454]\n",
            " [-1.22787184 -0.97817919 -1.15686458 ... -0.4152274   2.32703553\n",
            "   0.48948541]\n",
            " [-1.00209449  1.02230758 -0.44021098 ... -0.4152274  -0.4297313\n",
            "   0.60083645]\n",
            " ...\n",
            " [ 0.40901393 -0.97817919  1.50140388 ...  2.40831892 -0.4297313\n",
            "  -1.52373881]\n",
            " [-1.56653786  1.02230758 -0.33475    ... -0.4152274  -0.4297313\n",
            "  -0.04627297]\n",
            " [-0.77631715 -0.97817919 -0.87511408 ...  2.40831892 -0.4297313\n",
            "   1.5344775 ]]\n",
            "Standardized Testing Features:\n",
            "[[ 0.86056862  1.02230758  0.85327071 ... -0.4152274  -0.4297313\n",
            "   0.66607092]\n",
            " [-0.32476245 -0.97817919 -1.3862749  ... -0.4152274  -0.4297313\n",
            "  -1.64994254]\n",
            " [ 1.08634597 -0.97817919  0.81205408 ... -0.4152274  -0.4297313\n",
            "   1.50999726]\n",
            " ...\n",
            " [-0.49409546 -0.97817919  1.70638597 ... -0.4152274  -0.4297313\n",
            "  -0.05580471]\n",
            " [ 1.25567898 -0.97817919  0.11809373 ... -0.4152274  -0.4297313\n",
            "   1.00338986]\n",
            " [-0.43765113 -0.97817919  0.79604443 ... -0.4152274  -0.4297313\n",
            "  -0.24950059]]\n"
          ]
        }
      ]
    },
    {
      "cell_type": "code",
      "source": [
        "# Define hyperparameter sets\n",
        "hyperparams_1 = {'learning_rate': 0.01, 'epochs': 50, 'batch_size': 32}\n",
        "hyperparams_2 = {'learning_rate': 0.001, 'epochs': 100, 'batch_size': 64}"
      ],
      "metadata": {
        "id": "saoBC2X8hbpi"
      },
      "execution_count": null,
      "outputs": []
    },
    {
      "cell_type": "code",
      "source": [],
      "metadata": {
        "id": "BR4sXdx980Mc"
      },
      "execution_count": null,
      "outputs": []
    },
    {
      "cell_type": "code",
      "source": [
        "# Function to build and train the model\n",
        "def build_and_train_model(hyperparams, X_train, y_train, X_test, y_test):\n",
        "    # Initialize ANN\n",
        "    ann = Sequential()\n",
        "    ann.add(Dense(units=6, activation=\"relu\", input_dim=X_train.shape[1]))\n",
        "    ann.add(Dense(units=6, activation=\"relu\"))\n",
        "    ann.add(Dense(units=1, activation=\"sigmoid\"))\n",
        "\n",
        "    # Compile the ANN\n",
        "    optimizer = tf.keras.optimizers.Adam(learning_rate=hyperparams['learning_rate'])\n",
        "    ann.compile(optimizer=optimizer, loss=\"binary_crossentropy\", metrics=['accuracy'])\n",
        "\n",
        "    # Train the model with progress bar\n",
        "    history = ann.fit(X_train, y_train, epochs=hyperparams['epochs'], batch_size=hyperparams['batch_size'], validation_data=(X_test, y_test), verbose=1)\n",
        "\n",
        "    # Extract training and validation metrics from history\n",
        "    train_accuracy = history.history['accuracy']\n",
        "    val_accuracy = history.history['val_accuracy']\n",
        "    train_loss = history.history['loss']\n",
        "    val_loss = history.history['val_loss']\n",
        "\n",
        "    return history, train_accuracy, val_accuracy, train_loss, val_loss"
      ],
      "metadata": {
        "id": "yvWacmek0LUg"
      },
      "execution_count": null,
      "outputs": []
    },
    {
      "cell_type": "code",
      "source": [
        "# Train and evaluate the model with hyperparameters set 1\n",
        "history_1, train_mse_1, test_mse_1, train_accuracy_1, test_accuracy_1 = build_and_train_model(hyperparams_1, X_train, y_train, X_test, y_test)\n"
      ],
      "metadata": {
        "colab": {
          "base_uri": "https://localhost:8080/"
        },
        "id": "v5dY20VC520k",
        "outputId": "0362f8c8-f756-46bc-d093-442747c607a4"
      },
      "execution_count": null,
      "outputs": [
        {
          "output_type": "stream",
          "name": "stdout",
          "text": [
            "Epoch 1/50\n"
          ]
        },
        {
          "output_type": "stream",
          "name": "stderr",
          "text": [
            "/usr/local/lib/python3.10/dist-packages/keras/src/layers/core/dense.py:87: UserWarning: Do not pass an `input_shape`/`input_dim` argument to a layer. When using Sequential models, prefer using an `Input(shape)` object as the first layer in the model instead.\n",
            "  super().__init__(activity_regularizer=activity_regularizer, **kwargs)\n"
          ]
        },
        {
          "output_type": "stream",
          "name": "stdout",
          "text": [
            "\u001b[1m43/43\u001b[0m \u001b[32m━━━━━━━━━━━━━━━━━━━━\u001b[0m\u001b[37m\u001b[0m \u001b[1m2s\u001b[0m 12ms/step - accuracy: 0.6639 - loss: 0.6366 - val_accuracy: 0.7441 - val_loss: 0.4725\n",
            "Epoch 2/50\n",
            "\u001b[1m43/43\u001b[0m \u001b[32m━━━━━━━━━━━━━━━━━━━━\u001b[0m\u001b[37m\u001b[0m \u001b[1m0s\u001b[0m 2ms/step - accuracy: 0.7989 - loss: 0.4394 - val_accuracy: 0.8000 - val_loss: 0.4375\n",
            "Epoch 3/50\n",
            "\u001b[1m43/43\u001b[0m \u001b[32m━━━━━━━━━━━━━━━━━━━━\u001b[0m\u001b[37m\u001b[0m \u001b[1m0s\u001b[0m 3ms/step - accuracy: 0.8065 - loss: 0.4305 - val_accuracy: 0.8265 - val_loss: 0.3973\n",
            "Epoch 4/50\n",
            "\u001b[1m43/43\u001b[0m \u001b[32m━━━━━━━━━━━━━━━━━━━━\u001b[0m\u001b[37m\u001b[0m \u001b[1m0s\u001b[0m 3ms/step - accuracy: 0.8129 - loss: 0.3966 - val_accuracy: 0.8235 - val_loss: 0.3942\n",
            "Epoch 5/50\n",
            "\u001b[1m43/43\u001b[0m \u001b[32m━━━━━━━━━━━━━━━━━━━━\u001b[0m\u001b[37m\u001b[0m \u001b[1m0s\u001b[0m 5ms/step - accuracy: 0.8430 - loss: 0.3862 - val_accuracy: 0.8235 - val_loss: 0.3937\n",
            "Epoch 6/50\n",
            "\u001b[1m43/43\u001b[0m \u001b[32m━━━━━━━━━━━━━━━━━━━━\u001b[0m\u001b[37m\u001b[0m \u001b[1m0s\u001b[0m 5ms/step - accuracy: 0.8192 - loss: 0.4034 - val_accuracy: 0.8265 - val_loss: 0.3893\n",
            "Epoch 7/50\n",
            "\u001b[1m43/43\u001b[0m \u001b[32m━━━━━━━━━━━━━━━━━━━━\u001b[0m\u001b[37m\u001b[0m \u001b[1m0s\u001b[0m 3ms/step - accuracy: 0.8297 - loss: 0.3807 - val_accuracy: 0.8353 - val_loss: 0.3811\n",
            "Epoch 8/50\n",
            "\u001b[1m43/43\u001b[0m \u001b[32m━━━━━━━━━━━━━━━━━━━━\u001b[0m\u001b[37m\u001b[0m \u001b[1m0s\u001b[0m 3ms/step - accuracy: 0.8435 - loss: 0.3862 - val_accuracy: 0.8265 - val_loss: 0.3912\n",
            "Epoch 9/50\n",
            "\u001b[1m43/43\u001b[0m \u001b[32m━━━━━━━━━━━━━━━━━━━━\u001b[0m\u001b[37m\u001b[0m \u001b[1m0s\u001b[0m 4ms/step - accuracy: 0.8467 - loss: 0.3621 - val_accuracy: 0.8176 - val_loss: 0.3977\n",
            "Epoch 10/50\n",
            "\u001b[1m43/43\u001b[0m \u001b[32m━━━━━━━━━━━━━━━━━━━━\u001b[0m\u001b[37m\u001b[0m \u001b[1m0s\u001b[0m 4ms/step - accuracy: 0.8461 - loss: 0.3696 - val_accuracy: 0.8382 - val_loss: 0.3792\n",
            "Epoch 11/50\n",
            "\u001b[1m43/43\u001b[0m \u001b[32m━━━━━━━━━━━━━━━━━━━━\u001b[0m\u001b[37m\u001b[0m \u001b[1m0s\u001b[0m 3ms/step - accuracy: 0.8428 - loss: 0.3580 - val_accuracy: 0.8206 - val_loss: 0.3873\n",
            "Epoch 12/50\n",
            "\u001b[1m43/43\u001b[0m \u001b[32m━━━━━━━━━━━━━━━━━━━━\u001b[0m\u001b[37m\u001b[0m \u001b[1m0s\u001b[0m 5ms/step - accuracy: 0.8499 - loss: 0.3633 - val_accuracy: 0.8529 - val_loss: 0.3674\n",
            "Epoch 13/50\n",
            "\u001b[1m43/43\u001b[0m \u001b[32m━━━━━━━━━━━━━━━━━━━━\u001b[0m\u001b[37m\u001b[0m \u001b[1m0s\u001b[0m 2ms/step - accuracy: 0.8667 - loss: 0.3509 - val_accuracy: 0.8324 - val_loss: 0.3760\n",
            "Epoch 14/50\n",
            "\u001b[1m43/43\u001b[0m \u001b[32m━━━━━━━━━━━━━━━━━━━━\u001b[0m\u001b[37m\u001b[0m \u001b[1m0s\u001b[0m 2ms/step - accuracy: 0.8508 - loss: 0.3495 - val_accuracy: 0.8471 - val_loss: 0.3590\n",
            "Epoch 15/50\n",
            "\u001b[1m43/43\u001b[0m \u001b[32m━━━━━━━━━━━━━━━━━━━━\u001b[0m\u001b[37m\u001b[0m \u001b[1m0s\u001b[0m 3ms/step - accuracy: 0.8690 - loss: 0.3283 - val_accuracy: 0.8324 - val_loss: 0.3588\n",
            "Epoch 16/50\n",
            "\u001b[1m43/43\u001b[0m \u001b[32m━━━━━━━━━━━━━━━━━━━━\u001b[0m\u001b[37m\u001b[0m \u001b[1m0s\u001b[0m 2ms/step - accuracy: 0.8487 - loss: 0.3758 - val_accuracy: 0.8500 - val_loss: 0.3572\n",
            "Epoch 17/50\n",
            "\u001b[1m43/43\u001b[0m \u001b[32m━━━━━━━━━━━━━━━━━━━━\u001b[0m\u001b[37m\u001b[0m \u001b[1m0s\u001b[0m 2ms/step - accuracy: 0.8545 - loss: 0.3461 - val_accuracy: 0.8471 - val_loss: 0.3599\n",
            "Epoch 18/50\n",
            "\u001b[1m43/43\u001b[0m \u001b[32m━━━━━━━━━━━━━━━━━━━━\u001b[0m\u001b[37m\u001b[0m \u001b[1m0s\u001b[0m 2ms/step - accuracy: 0.8582 - loss: 0.3498 - val_accuracy: 0.8559 - val_loss: 0.3444\n",
            "Epoch 19/50\n",
            "\u001b[1m43/43\u001b[0m \u001b[32m━━━━━━━━━━━━━━━━━━━━\u001b[0m\u001b[37m\u001b[0m \u001b[1m0s\u001b[0m 3ms/step - accuracy: 0.8674 - loss: 0.3289 - val_accuracy: 0.8559 - val_loss: 0.3602\n",
            "Epoch 20/50\n",
            "\u001b[1m43/43\u001b[0m \u001b[32m━━━━━━━━━━━━━━━━━━━━\u001b[0m\u001b[37m\u001b[0m \u001b[1m0s\u001b[0m 2ms/step - accuracy: 0.8610 - loss: 0.3320 - val_accuracy: 0.8618 - val_loss: 0.3488\n",
            "Epoch 21/50\n",
            "\u001b[1m43/43\u001b[0m \u001b[32m━━━━━━━━━━━━━━━━━━━━\u001b[0m\u001b[37m\u001b[0m \u001b[1m0s\u001b[0m 2ms/step - accuracy: 0.8626 - loss: 0.3285 - val_accuracy: 0.8588 - val_loss: 0.3462\n",
            "Epoch 22/50\n",
            "\u001b[1m43/43\u001b[0m \u001b[32m━━━━━━━━━━━━━━━━━━━━\u001b[0m\u001b[37m\u001b[0m \u001b[1m0s\u001b[0m 2ms/step - accuracy: 0.8854 - loss: 0.3137 - val_accuracy: 0.8618 - val_loss: 0.3364\n",
            "Epoch 23/50\n",
            "\u001b[1m43/43\u001b[0m \u001b[32m━━━━━━━━━━━━━━━━━━━━\u001b[0m\u001b[37m\u001b[0m \u001b[1m0s\u001b[0m 2ms/step - accuracy: 0.8787 - loss: 0.2999 - val_accuracy: 0.8559 - val_loss: 0.3420\n",
            "Epoch 24/50\n",
            "\u001b[1m43/43\u001b[0m \u001b[32m━━━━━━━━━━━━━━━━━━━━\u001b[0m\u001b[37m\u001b[0m \u001b[1m0s\u001b[0m 3ms/step - accuracy: 0.8674 - loss: 0.3272 - val_accuracy: 0.8588 - val_loss: 0.3390\n",
            "Epoch 25/50\n",
            "\u001b[1m43/43\u001b[0m \u001b[32m━━━━━━━━━━━━━━━━━━━━\u001b[0m\u001b[37m\u001b[0m \u001b[1m0s\u001b[0m 3ms/step - accuracy: 0.8633 - loss: 0.3378 - val_accuracy: 0.8618 - val_loss: 0.3454\n",
            "Epoch 26/50\n",
            "\u001b[1m43/43\u001b[0m \u001b[32m━━━━━━━━━━━━━━━━━━━━\u001b[0m\u001b[37m\u001b[0m \u001b[1m0s\u001b[0m 3ms/step - accuracy: 0.8690 - loss: 0.3346 - val_accuracy: 0.8529 - val_loss: 0.3463\n",
            "Epoch 27/50\n",
            "\u001b[1m43/43\u001b[0m \u001b[32m━━━━━━━━━━━━━━━━━━━━\u001b[0m\u001b[37m\u001b[0m \u001b[1m0s\u001b[0m 2ms/step - accuracy: 0.8620 - loss: 0.3292 - val_accuracy: 0.8676 - val_loss: 0.3333\n",
            "Epoch 28/50\n",
            "\u001b[1m43/43\u001b[0m \u001b[32m━━━━━━━━━━━━━━━━━━━━\u001b[0m\u001b[37m\u001b[0m \u001b[1m0s\u001b[0m 3ms/step - accuracy: 0.8746 - loss: 0.3042 - val_accuracy: 0.8647 - val_loss: 0.3403\n",
            "Epoch 29/50\n",
            "\u001b[1m43/43\u001b[0m \u001b[32m━━━━━━━━━━━━━━━━━━━━\u001b[0m\u001b[37m\u001b[0m \u001b[1m0s\u001b[0m 2ms/step - accuracy: 0.8524 - loss: 0.3388 - val_accuracy: 0.8529 - val_loss: 0.3302\n",
            "Epoch 30/50\n",
            "\u001b[1m43/43\u001b[0m \u001b[32m━━━━━━━━━━━━━━━━━━━━\u001b[0m\u001b[37m\u001b[0m \u001b[1m0s\u001b[0m 2ms/step - accuracy: 0.8817 - loss: 0.2922 - val_accuracy: 0.8794 - val_loss: 0.3220\n",
            "Epoch 31/50\n",
            "\u001b[1m43/43\u001b[0m \u001b[32m━━━━━━━━━━━━━━━━━━━━\u001b[0m\u001b[37m\u001b[0m \u001b[1m0s\u001b[0m 3ms/step - accuracy: 0.8708 - loss: 0.3261 - val_accuracy: 0.8647 - val_loss: 0.3481\n",
            "Epoch 32/50\n",
            "\u001b[1m43/43\u001b[0m \u001b[32m━━━━━━━━━━━━━━━━━━━━\u001b[0m\u001b[37m\u001b[0m \u001b[1m0s\u001b[0m 3ms/step - accuracy: 0.8855 - loss: 0.2791 - val_accuracy: 0.8647 - val_loss: 0.3276\n",
            "Epoch 33/50\n",
            "\u001b[1m43/43\u001b[0m \u001b[32m━━━━━━━━━━━━━━━━━━━━\u001b[0m\u001b[37m\u001b[0m \u001b[1m0s\u001b[0m 2ms/step - accuracy: 0.8745 - loss: 0.3054 - val_accuracy: 0.8735 - val_loss: 0.3313\n",
            "Epoch 34/50\n",
            "\u001b[1m43/43\u001b[0m \u001b[32m━━━━━━━━━━━━━━━━━━━━\u001b[0m\u001b[37m\u001b[0m \u001b[1m0s\u001b[0m 3ms/step - accuracy: 0.8869 - loss: 0.3086 - val_accuracy: 0.8676 - val_loss: 0.3227\n",
            "Epoch 35/50\n",
            "\u001b[1m43/43\u001b[0m \u001b[32m━━━━━━━━━━━━━━━━━━━━\u001b[0m\u001b[37m\u001b[0m \u001b[1m0s\u001b[0m 3ms/step - accuracy: 0.8562 - loss: 0.3354 - val_accuracy: 0.8618 - val_loss: 0.3677\n",
            "Epoch 36/50\n",
            "\u001b[1m43/43\u001b[0m \u001b[32m━━━━━━━━━━━━━━━━━━━━\u001b[0m\u001b[37m\u001b[0m \u001b[1m0s\u001b[0m 2ms/step - accuracy: 0.8538 - loss: 0.3373 - val_accuracy: 0.8618 - val_loss: 0.3246\n",
            "Epoch 37/50\n",
            "\u001b[1m43/43\u001b[0m \u001b[32m━━━━━━━━━━━━━━━━━━━━\u001b[0m\u001b[37m\u001b[0m \u001b[1m0s\u001b[0m 2ms/step - accuracy: 0.8775 - loss: 0.3063 - val_accuracy: 0.8588 - val_loss: 0.3521\n",
            "Epoch 38/50\n",
            "\u001b[1m43/43\u001b[0m \u001b[32m━━━━━━━━━━━━━━━━━━━━\u001b[0m\u001b[37m\u001b[0m \u001b[1m0s\u001b[0m 2ms/step - accuracy: 0.8702 - loss: 0.3123 - val_accuracy: 0.8735 - val_loss: 0.3216\n",
            "Epoch 39/50\n",
            "\u001b[1m43/43\u001b[0m \u001b[32m━━━━━━━━━━━━━━━━━━━━\u001b[0m\u001b[37m\u001b[0m \u001b[1m0s\u001b[0m 3ms/step - accuracy: 0.9086 - loss: 0.2805 - val_accuracy: 0.8735 - val_loss: 0.3139\n",
            "Epoch 40/50\n",
            "\u001b[1m43/43\u001b[0m \u001b[32m━━━━━━━━━━━━━━━━━━━━\u001b[0m\u001b[37m\u001b[0m \u001b[1m0s\u001b[0m 2ms/step - accuracy: 0.8705 - loss: 0.3056 - val_accuracy: 0.8647 - val_loss: 0.3417\n",
            "Epoch 41/50\n",
            "\u001b[1m43/43\u001b[0m \u001b[32m━━━━━━━━━━━━━━━━━━━━\u001b[0m\u001b[37m\u001b[0m \u001b[1m0s\u001b[0m 2ms/step - accuracy: 0.8940 - loss: 0.2808 - val_accuracy: 0.8618 - val_loss: 0.3277\n",
            "Epoch 42/50\n",
            "\u001b[1m43/43\u001b[0m \u001b[32m━━━━━━━━━━━━━━━━━━━━\u001b[0m\u001b[37m\u001b[0m \u001b[1m0s\u001b[0m 2ms/step - accuracy: 0.8782 - loss: 0.3118 - val_accuracy: 0.8735 - val_loss: 0.3242\n",
            "Epoch 43/50\n",
            "\u001b[1m43/43\u001b[0m \u001b[32m━━━━━━━━━━━━━━━━━━━━\u001b[0m\u001b[37m\u001b[0m \u001b[1m0s\u001b[0m 3ms/step - accuracy: 0.8896 - loss: 0.2828 - val_accuracy: 0.8647 - val_loss: 0.3273\n",
            "Epoch 44/50\n",
            "\u001b[1m43/43\u001b[0m \u001b[32m━━━━━━━━━━━━━━━━━━━━\u001b[0m\u001b[37m\u001b[0m \u001b[1m0s\u001b[0m 2ms/step - accuracy: 0.8923 - loss: 0.2847 - val_accuracy: 0.8706 - val_loss: 0.3207\n",
            "Epoch 45/50\n",
            "\u001b[1m43/43\u001b[0m \u001b[32m━━━━━━━━━━━━━━━━━━━━\u001b[0m\u001b[37m\u001b[0m \u001b[1m0s\u001b[0m 2ms/step - accuracy: 0.8876 - loss: 0.2915 - val_accuracy: 0.8676 - val_loss: 0.3385\n",
            "Epoch 46/50\n",
            "\u001b[1m43/43\u001b[0m \u001b[32m━━━━━━━━━━━━━━━━━━━━\u001b[0m\u001b[37m\u001b[0m \u001b[1m0s\u001b[0m 3ms/step - accuracy: 0.8791 - loss: 0.2923 - val_accuracy: 0.8765 - val_loss: 0.3274\n",
            "Epoch 47/50\n",
            "\u001b[1m43/43\u001b[0m \u001b[32m━━━━━━━━━━━━━━━━━━━━\u001b[0m\u001b[37m\u001b[0m \u001b[1m0s\u001b[0m 2ms/step - accuracy: 0.8806 - loss: 0.2864 - val_accuracy: 0.8735 - val_loss: 0.3256\n",
            "Epoch 48/50\n",
            "\u001b[1m43/43\u001b[0m \u001b[32m━━━━━━━━━━━━━━━━━━━━\u001b[0m\u001b[37m\u001b[0m \u001b[1m0s\u001b[0m 2ms/step - accuracy: 0.8734 - loss: 0.2838 - val_accuracy: 0.8735 - val_loss: 0.3212\n",
            "Epoch 49/50\n",
            "\u001b[1m43/43\u001b[0m \u001b[32m━━━━━━━━━━━━━━━━━━━━\u001b[0m\u001b[37m\u001b[0m \u001b[1m0s\u001b[0m 3ms/step - accuracy: 0.8736 - loss: 0.3179 - val_accuracy: 0.8647 - val_loss: 0.3245\n",
            "Epoch 50/50\n",
            "\u001b[1m43/43\u001b[0m \u001b[32m━━━━━━━━━━━━━━━━━━━━\u001b[0m\u001b[37m\u001b[0m \u001b[1m0s\u001b[0m 2ms/step - accuracy: 0.8780 - loss: 0.2950 - val_accuracy: 0.8853 - val_loss: 0.3349\n"
          ]
        }
      ]
    },
    {
      "cell_type": "code",
      "source": [
        "# Train and evaluate the model with hyperparameters set 2\n",
        "history_2, train_mse_2, test_mse_2, train_accuracy_2, test_accuracy_2 = build_and_train_model(hyperparams_2, X_train, y_train, X_test, y_test)\n"
      ],
      "metadata": {
        "colab": {
          "base_uri": "https://localhost:8080/"
        },
        "id": "WCx98eek7DTa",
        "outputId": "b112bdcf-f8d7-48a5-cccc-5144a41479e0"
      },
      "execution_count": null,
      "outputs": [
        {
          "output_type": "stream",
          "name": "stdout",
          "text": [
            "Epoch 1/100\n",
            "\u001b[1m22/22\u001b[0m \u001b[32m━━━━━━━━━━━━━━━━━━━━\u001b[0m\u001b[37m\u001b[0m \u001b[1m1s\u001b[0m 11ms/step - accuracy: 0.6240 - loss: 0.6874 - val_accuracy: 0.6176 - val_loss: 0.6790\n",
            "Epoch 2/100\n",
            "\u001b[1m22/22\u001b[0m \u001b[32m━━━━━━━━━━━━━━━━━━━━\u001b[0m\u001b[37m\u001b[0m \u001b[1m0s\u001b[0m 3ms/step - accuracy: 0.6497 - loss: 0.6697 - val_accuracy: 0.6412 - val_loss: 0.6610\n",
            "Epoch 3/100\n",
            "\u001b[1m22/22\u001b[0m \u001b[32m━━━━━━━━━━━━━━━━━━━━\u001b[0m\u001b[37m\u001b[0m \u001b[1m0s\u001b[0m 4ms/step - accuracy: 0.7034 - loss: 0.6487 - val_accuracy: 0.6471 - val_loss: 0.6411\n",
            "Epoch 4/100\n",
            "\u001b[1m22/22\u001b[0m \u001b[32m━━━━━━━━━━━━━━━━━━━━\u001b[0m\u001b[37m\u001b[0m \u001b[1m0s\u001b[0m 3ms/step - accuracy: 0.7094 - loss: 0.6294 - val_accuracy: 0.6824 - val_loss: 0.6195\n",
            "Epoch 5/100\n",
            "\u001b[1m22/22\u001b[0m \u001b[32m━━━━━━━━━━━━━━━━━━━━\u001b[0m\u001b[37m\u001b[0m \u001b[1m0s\u001b[0m 3ms/step - accuracy: 0.7127 - loss: 0.6084 - val_accuracy: 0.6971 - val_loss: 0.5959\n",
            "Epoch 6/100\n",
            "\u001b[1m22/22\u001b[0m \u001b[32m━━━━━━━━━━━━━━━━━━━━\u001b[0m\u001b[37m\u001b[0m \u001b[1m0s\u001b[0m 4ms/step - accuracy: 0.7406 - loss: 0.5763 - val_accuracy: 0.7029 - val_loss: 0.5727\n",
            "Epoch 7/100\n",
            "\u001b[1m22/22\u001b[0m \u001b[32m━━━━━━━━━━━━━━━━━━━━\u001b[0m\u001b[37m\u001b[0m \u001b[1m0s\u001b[0m 3ms/step - accuracy: 0.7540 - loss: 0.5536 - val_accuracy: 0.7118 - val_loss: 0.5508\n",
            "Epoch 8/100\n",
            "\u001b[1m22/22\u001b[0m \u001b[32m━━━━━━━━━━━━━━━━━━━━\u001b[0m\u001b[37m\u001b[0m \u001b[1m0s\u001b[0m 3ms/step - accuracy: 0.7492 - loss: 0.5369 - val_accuracy: 0.7176 - val_loss: 0.5295\n",
            "Epoch 9/100\n",
            "\u001b[1m22/22\u001b[0m \u001b[32m━━━━━━━━━━━━━━━━━━━━\u001b[0m\u001b[37m\u001b[0m \u001b[1m0s\u001b[0m 3ms/step - accuracy: 0.7749 - loss: 0.5019 - val_accuracy: 0.7412 - val_loss: 0.5104\n",
            "Epoch 10/100\n",
            "\u001b[1m22/22\u001b[0m \u001b[32m━━━━━━━━━━━━━━━━━━━━\u001b[0m\u001b[37m\u001b[0m \u001b[1m0s\u001b[0m 3ms/step - accuracy: 0.7864 - loss: 0.4938 - val_accuracy: 0.7676 - val_loss: 0.4927\n",
            "Epoch 11/100\n",
            "\u001b[1m22/22\u001b[0m \u001b[32m━━━━━━━━━━━━━━━━━━━━\u001b[0m\u001b[37m\u001b[0m \u001b[1m0s\u001b[0m 3ms/step - accuracy: 0.7840 - loss: 0.4762 - val_accuracy: 0.7735 - val_loss: 0.4772\n",
            "Epoch 12/100\n",
            "\u001b[1m22/22\u001b[0m \u001b[32m━━━━━━━━━━━━━━━━━━━━\u001b[0m\u001b[37m\u001b[0m \u001b[1m0s\u001b[0m 3ms/step - accuracy: 0.8024 - loss: 0.4456 - val_accuracy: 0.7824 - val_loss: 0.4641\n",
            "Epoch 13/100\n",
            "\u001b[1m22/22\u001b[0m \u001b[32m━━━━━━━━━━━━━━━━━━━━\u001b[0m\u001b[37m\u001b[0m \u001b[1m0s\u001b[0m 4ms/step - accuracy: 0.8038 - loss: 0.4497 - val_accuracy: 0.7794 - val_loss: 0.4521\n",
            "Epoch 14/100\n",
            "\u001b[1m22/22\u001b[0m \u001b[32m━━━━━━━━━━━━━━━━━━━━\u001b[0m\u001b[37m\u001b[0m \u001b[1m0s\u001b[0m 4ms/step - accuracy: 0.8181 - loss: 0.4180 - val_accuracy: 0.7882 - val_loss: 0.4422\n",
            "Epoch 15/100\n",
            "\u001b[1m22/22\u001b[0m \u001b[32m━━━━━━━━━━━━━━━━━━━━\u001b[0m\u001b[37m\u001b[0m \u001b[1m0s\u001b[0m 3ms/step - accuracy: 0.8205 - loss: 0.4012 - val_accuracy: 0.7882 - val_loss: 0.4343\n",
            "Epoch 16/100\n",
            "\u001b[1m22/22\u001b[0m \u001b[32m━━━━━━━━━━━━━━━━━━━━\u001b[0m\u001b[37m\u001b[0m \u001b[1m0s\u001b[0m 3ms/step - accuracy: 0.8148 - loss: 0.4153 - val_accuracy: 0.8029 - val_loss: 0.4264\n",
            "Epoch 17/100\n",
            "\u001b[1m22/22\u001b[0m \u001b[32m━━━━━━━━━━━━━━━━━━━━\u001b[0m\u001b[37m\u001b[0m \u001b[1m0s\u001b[0m 3ms/step - accuracy: 0.8326 - loss: 0.4053 - val_accuracy: 0.8059 - val_loss: 0.4209\n",
            "Epoch 18/100\n",
            "\u001b[1m22/22\u001b[0m \u001b[32m━━━━━━━━━━━━━━━━━━━━\u001b[0m\u001b[37m\u001b[0m \u001b[1m0s\u001b[0m 3ms/step - accuracy: 0.8318 - loss: 0.3911 - val_accuracy: 0.8059 - val_loss: 0.4172\n",
            "Epoch 19/100\n",
            "\u001b[1m22/22\u001b[0m \u001b[32m━━━━━━━━━━━━━━━━━━━━\u001b[0m\u001b[37m\u001b[0m \u001b[1m0s\u001b[0m 4ms/step - accuracy: 0.8301 - loss: 0.3823 - val_accuracy: 0.8118 - val_loss: 0.4131\n",
            "Epoch 20/100\n",
            "\u001b[1m22/22\u001b[0m \u001b[32m━━━━━━━━━━━━━━━━━━━━\u001b[0m\u001b[37m\u001b[0m \u001b[1m0s\u001b[0m 3ms/step - accuracy: 0.8271 - loss: 0.3929 - val_accuracy: 0.8147 - val_loss: 0.4098\n",
            "Epoch 21/100\n",
            "\u001b[1m22/22\u001b[0m \u001b[32m━━━━━━━━━━━━━━━━━━━━\u001b[0m\u001b[37m\u001b[0m \u001b[1m0s\u001b[0m 4ms/step - accuracy: 0.8434 - loss: 0.3699 - val_accuracy: 0.8147 - val_loss: 0.4083\n",
            "Epoch 22/100\n",
            "\u001b[1m22/22\u001b[0m \u001b[32m━━━━━━━━━━━━━━━━━━━━\u001b[0m\u001b[37m\u001b[0m \u001b[1m0s\u001b[0m 3ms/step - accuracy: 0.8307 - loss: 0.4067 - val_accuracy: 0.8235 - val_loss: 0.4057\n",
            "Epoch 23/100\n",
            "\u001b[1m22/22\u001b[0m \u001b[32m━━━━━━━━━━━━━━━━━━━━\u001b[0m\u001b[37m\u001b[0m \u001b[1m0s\u001b[0m 3ms/step - accuracy: 0.8379 - loss: 0.3878 - val_accuracy: 0.8206 - val_loss: 0.4033\n",
            "Epoch 24/100\n",
            "\u001b[1m22/22\u001b[0m \u001b[32m━━━━━━━━━━━━━━━━━━━━\u001b[0m\u001b[37m\u001b[0m \u001b[1m0s\u001b[0m 3ms/step - accuracy: 0.8544 - loss: 0.3648 - val_accuracy: 0.8147 - val_loss: 0.4033\n",
            "Epoch 25/100\n",
            "\u001b[1m22/22\u001b[0m \u001b[32m━━━━━━━━━━━━━━━━━━━━\u001b[0m\u001b[37m\u001b[0m \u001b[1m0s\u001b[0m 4ms/step - accuracy: 0.8428 - loss: 0.3568 - val_accuracy: 0.8206 - val_loss: 0.4022\n",
            "Epoch 26/100\n",
            "\u001b[1m22/22\u001b[0m \u001b[32m━━━━━━━━━━━━━━━━━━━━\u001b[0m\u001b[37m\u001b[0m \u001b[1m0s\u001b[0m 4ms/step - accuracy: 0.8477 - loss: 0.3603 - val_accuracy: 0.8176 - val_loss: 0.4013\n",
            "Epoch 27/100\n",
            "\u001b[1m22/22\u001b[0m \u001b[32m━━━━━━━━━━━━━━━━━━━━\u001b[0m\u001b[37m\u001b[0m \u001b[1m0s\u001b[0m 4ms/step - accuracy: 0.8331 - loss: 0.3729 - val_accuracy: 0.8147 - val_loss: 0.4018\n",
            "Epoch 28/100\n",
            "\u001b[1m22/22\u001b[0m \u001b[32m━━━━━━━━━━━━━━━━━━━━\u001b[0m\u001b[37m\u001b[0m \u001b[1m0s\u001b[0m 3ms/step - accuracy: 0.8461 - loss: 0.3702 - val_accuracy: 0.8176 - val_loss: 0.4001\n",
            "Epoch 29/100\n",
            "\u001b[1m22/22\u001b[0m \u001b[32m━━━━━━━━━━━━━━━━━━━━\u001b[0m\u001b[37m\u001b[0m \u001b[1m0s\u001b[0m 4ms/step - accuracy: 0.8407 - loss: 0.3660 - val_accuracy: 0.8206 - val_loss: 0.3998\n",
            "Epoch 30/100\n",
            "\u001b[1m22/22\u001b[0m \u001b[32m━━━━━━━━━━━━━━━━━━━━\u001b[0m\u001b[37m\u001b[0m \u001b[1m0s\u001b[0m 3ms/step - accuracy: 0.8248 - loss: 0.3945 - val_accuracy: 0.8176 - val_loss: 0.3998\n",
            "Epoch 31/100\n",
            "\u001b[1m22/22\u001b[0m \u001b[32m━━━━━━━━━━━━━━━━━━━━\u001b[0m\u001b[37m\u001b[0m \u001b[1m0s\u001b[0m 3ms/step - accuracy: 0.8390 - loss: 0.3781 - val_accuracy: 0.8176 - val_loss: 0.3989\n",
            "Epoch 32/100\n",
            "\u001b[1m22/22\u001b[0m \u001b[32m━━━━━━━━━━━━━━━━━━━━\u001b[0m\u001b[37m\u001b[0m \u001b[1m0s\u001b[0m 3ms/step - accuracy: 0.8512 - loss: 0.3491 - val_accuracy: 0.8176 - val_loss: 0.3982\n",
            "Epoch 33/100\n",
            "\u001b[1m22/22\u001b[0m \u001b[32m━━━━━━━━━━━━━━━━━━━━\u001b[0m\u001b[37m\u001b[0m \u001b[1m0s\u001b[0m 3ms/step - accuracy: 0.8395 - loss: 0.3617 - val_accuracy: 0.8206 - val_loss: 0.3983\n",
            "Epoch 34/100\n",
            "\u001b[1m22/22\u001b[0m \u001b[32m━━━━━━━━━━━━━━━━━━━━\u001b[0m\u001b[37m\u001b[0m \u001b[1m0s\u001b[0m 4ms/step - accuracy: 0.8482 - loss: 0.3483 - val_accuracy: 0.8176 - val_loss: 0.3986\n",
            "Epoch 35/100\n",
            "\u001b[1m22/22\u001b[0m \u001b[32m━━━━━━━━━━━━━━━━━━━━\u001b[0m\u001b[37m\u001b[0m \u001b[1m0s\u001b[0m 3ms/step - accuracy: 0.8428 - loss: 0.3492 - val_accuracy: 0.8147 - val_loss: 0.3996\n",
            "Epoch 36/100\n",
            "\u001b[1m22/22\u001b[0m \u001b[32m━━━━━━━━━━━━━━━━━━━━\u001b[0m\u001b[37m\u001b[0m \u001b[1m0s\u001b[0m 3ms/step - accuracy: 0.8344 - loss: 0.3847 - val_accuracy: 0.8206 - val_loss: 0.3982\n",
            "Epoch 37/100\n",
            "\u001b[1m22/22\u001b[0m \u001b[32m━━━━━━━━━━━━━━━━━━━━\u001b[0m\u001b[37m\u001b[0m \u001b[1m0s\u001b[0m 3ms/step - accuracy: 0.8448 - loss: 0.3489 - val_accuracy: 0.8206 - val_loss: 0.3980\n",
            "Epoch 38/100\n",
            "\u001b[1m22/22\u001b[0m \u001b[32m━━━━━━━━━━━━━━━━━━━━\u001b[0m\u001b[37m\u001b[0m \u001b[1m0s\u001b[0m 3ms/step - accuracy: 0.8448 - loss: 0.3523 - val_accuracy: 0.8206 - val_loss: 0.3983\n",
            "Epoch 39/100\n",
            "\u001b[1m22/22\u001b[0m \u001b[32m━━━━━━━━━━━━━━━━━━━━\u001b[0m\u001b[37m\u001b[0m \u001b[1m0s\u001b[0m 3ms/step - accuracy: 0.8299 - loss: 0.3794 - val_accuracy: 0.8176 - val_loss: 0.3979\n",
            "Epoch 40/100\n",
            "\u001b[1m22/22\u001b[0m \u001b[32m━━━━━━━━━━━━━━━━━━━━\u001b[0m\u001b[37m\u001b[0m \u001b[1m0s\u001b[0m 3ms/step - accuracy: 0.8290 - loss: 0.3654 - val_accuracy: 0.8176 - val_loss: 0.3984\n",
            "Epoch 41/100\n",
            "\u001b[1m22/22\u001b[0m \u001b[32m━━━━━━━━━━━━━━━━━━━━\u001b[0m\u001b[37m\u001b[0m \u001b[1m0s\u001b[0m 4ms/step - accuracy: 0.8455 - loss: 0.3681 - val_accuracy: 0.8206 - val_loss: 0.3969\n",
            "Epoch 42/100\n",
            "\u001b[1m22/22\u001b[0m \u001b[32m━━━━━━━━━━━━━━━━━━━━\u001b[0m\u001b[37m\u001b[0m \u001b[1m0s\u001b[0m 3ms/step - accuracy: 0.8258 - loss: 0.3714 - val_accuracy: 0.8147 - val_loss: 0.3974\n",
            "Epoch 43/100\n",
            "\u001b[1m22/22\u001b[0m \u001b[32m━━━━━━━━━━━━━━━━━━━━\u001b[0m\u001b[37m\u001b[0m \u001b[1m0s\u001b[0m 3ms/step - accuracy: 0.8250 - loss: 0.3798 - val_accuracy: 0.8176 - val_loss: 0.3973\n",
            "Epoch 44/100\n",
            "\u001b[1m22/22\u001b[0m \u001b[32m━━━━━━━━━━━━━━━━━━━━\u001b[0m\u001b[37m\u001b[0m \u001b[1m0s\u001b[0m 3ms/step - accuracy: 0.8308 - loss: 0.3620 - val_accuracy: 0.8235 - val_loss: 0.3968\n",
            "Epoch 45/100\n",
            "\u001b[1m22/22\u001b[0m \u001b[32m━━━━━━━━━━━━━━━━━━━━\u001b[0m\u001b[37m\u001b[0m \u001b[1m0s\u001b[0m 3ms/step - accuracy: 0.8294 - loss: 0.3756 - val_accuracy: 0.8265 - val_loss: 0.3954\n",
            "Epoch 46/100\n",
            "\u001b[1m22/22\u001b[0m \u001b[32m━━━━━━━━━━━━━━━━━━━━\u001b[0m\u001b[37m\u001b[0m \u001b[1m0s\u001b[0m 3ms/step - accuracy: 0.8284 - loss: 0.3761 - val_accuracy: 0.8176 - val_loss: 0.3963\n",
            "Epoch 47/100\n",
            "\u001b[1m22/22\u001b[0m \u001b[32m━━━━━━━━━━━━━━━━━━━━\u001b[0m\u001b[37m\u001b[0m \u001b[1m0s\u001b[0m 3ms/step - accuracy: 0.8497 - loss: 0.3379 - val_accuracy: 0.8265 - val_loss: 0.3946\n",
            "Epoch 48/100\n",
            "\u001b[1m22/22\u001b[0m \u001b[32m━━━━━━━━━━━━━━━━━━━━\u001b[0m\u001b[37m\u001b[0m \u001b[1m0s\u001b[0m 3ms/step - accuracy: 0.8442 - loss: 0.3562 - val_accuracy: 0.8206 - val_loss: 0.3963\n",
            "Epoch 49/100\n",
            "\u001b[1m22/22\u001b[0m \u001b[32m━━━━━━━━━━━━━━━━━━━━\u001b[0m\u001b[37m\u001b[0m \u001b[1m0s\u001b[0m 3ms/step - accuracy: 0.8517 - loss: 0.3456 - val_accuracy: 0.8176 - val_loss: 0.3964\n",
            "Epoch 50/100\n",
            "\u001b[1m22/22\u001b[0m \u001b[32m━━━━━━━━━━━━━━━━━━━━\u001b[0m\u001b[37m\u001b[0m \u001b[1m0s\u001b[0m 3ms/step - accuracy: 0.8392 - loss: 0.3623 - val_accuracy: 0.8176 - val_loss: 0.3960\n",
            "Epoch 51/100\n",
            "\u001b[1m22/22\u001b[0m \u001b[32m━━━━━━━━━━━━━━━━━━━━\u001b[0m\u001b[37m\u001b[0m \u001b[1m0s\u001b[0m 3ms/step - accuracy: 0.8389 - loss: 0.3544 - val_accuracy: 0.8206 - val_loss: 0.3968\n",
            "Epoch 52/100\n",
            "\u001b[1m22/22\u001b[0m \u001b[32m━━━━━━━━━━━━━━━━━━━━\u001b[0m\u001b[37m\u001b[0m \u001b[1m0s\u001b[0m 3ms/step - accuracy: 0.8647 - loss: 0.3280 - val_accuracy: 0.8206 - val_loss: 0.3956\n",
            "Epoch 53/100\n",
            "\u001b[1m22/22\u001b[0m \u001b[32m━━━━━━━━━━━━━━━━━━━━\u001b[0m\u001b[37m\u001b[0m \u001b[1m0s\u001b[0m 3ms/step - accuracy: 0.8373 - loss: 0.3801 - val_accuracy: 0.8176 - val_loss: 0.3967\n",
            "Epoch 54/100\n",
            "\u001b[1m22/22\u001b[0m \u001b[32m━━━━━━━━━━━━━━━━━━━━\u001b[0m\u001b[37m\u001b[0m \u001b[1m0s\u001b[0m 3ms/step - accuracy: 0.8455 - loss: 0.3636 - val_accuracy: 0.8176 - val_loss: 0.3958\n",
            "Epoch 55/100\n",
            "\u001b[1m22/22\u001b[0m \u001b[32m━━━━━━━━━━━━━━━━━━━━\u001b[0m\u001b[37m\u001b[0m \u001b[1m0s\u001b[0m 3ms/step - accuracy: 0.8336 - loss: 0.3856 - val_accuracy: 0.8235 - val_loss: 0.3959\n",
            "Epoch 56/100\n",
            "\u001b[1m22/22\u001b[0m \u001b[32m━━━━━━━━━━━━━━━━━━━━\u001b[0m\u001b[37m\u001b[0m \u001b[1m0s\u001b[0m 3ms/step - accuracy: 0.8365 - loss: 0.3608 - val_accuracy: 0.8206 - val_loss: 0.3959\n",
            "Epoch 57/100\n",
            "\u001b[1m22/22\u001b[0m \u001b[32m━━━━━━━━━━━━━━━━━━━━\u001b[0m\u001b[37m\u001b[0m \u001b[1m0s\u001b[0m 5ms/step - accuracy: 0.8299 - loss: 0.3739 - val_accuracy: 0.8206 - val_loss: 0.3964\n",
            "Epoch 58/100\n",
            "\u001b[1m22/22\u001b[0m \u001b[32m━━━━━━━━━━━━━━━━━━━━\u001b[0m\u001b[37m\u001b[0m \u001b[1m0s\u001b[0m 3ms/step - accuracy: 0.8455 - loss: 0.3629 - val_accuracy: 0.8176 - val_loss: 0.3946\n",
            "Epoch 59/100\n",
            "\u001b[1m22/22\u001b[0m \u001b[32m━━━━━━━━━━━━━━━━━━━━\u001b[0m\u001b[37m\u001b[0m \u001b[1m0s\u001b[0m 3ms/step - accuracy: 0.8576 - loss: 0.3399 - val_accuracy: 0.8235 - val_loss: 0.3956\n",
            "Epoch 60/100\n",
            "\u001b[1m22/22\u001b[0m \u001b[32m━━━━━━━━━━━━━━━━━━━━\u001b[0m\u001b[37m\u001b[0m \u001b[1m0s\u001b[0m 3ms/step - accuracy: 0.8434 - loss: 0.3698 - val_accuracy: 0.8206 - val_loss: 0.3950\n",
            "Epoch 61/100\n",
            "\u001b[1m22/22\u001b[0m \u001b[32m━━━━━━━━━━━━━━━━━━━━\u001b[0m\u001b[37m\u001b[0m \u001b[1m0s\u001b[0m 3ms/step - accuracy: 0.8347 - loss: 0.3872 - val_accuracy: 0.8265 - val_loss: 0.3945\n",
            "Epoch 62/100\n",
            "\u001b[1m22/22\u001b[0m \u001b[32m━━━━━━━━━━━━━━━━━━━━\u001b[0m\u001b[37m\u001b[0m \u001b[1m0s\u001b[0m 3ms/step - accuracy: 0.8602 - loss: 0.3335 - val_accuracy: 0.8235 - val_loss: 0.3949\n",
            "Epoch 63/100\n",
            "\u001b[1m22/22\u001b[0m \u001b[32m━━━━━━━━━━━━━━━━━━━━\u001b[0m\u001b[37m\u001b[0m \u001b[1m0s\u001b[0m 4ms/step - accuracy: 0.8429 - loss: 0.3564 - val_accuracy: 0.8206 - val_loss: 0.3962\n",
            "Epoch 64/100\n",
            "\u001b[1m22/22\u001b[0m \u001b[32m━━━━━━━━━━━━━━━━━━━━\u001b[0m\u001b[37m\u001b[0m \u001b[1m0s\u001b[0m 3ms/step - accuracy: 0.8392 - loss: 0.3512 - val_accuracy: 0.8176 - val_loss: 0.3956\n",
            "Epoch 65/100\n",
            "\u001b[1m22/22\u001b[0m \u001b[32m━━━━━━━━━━━━━━━━━━━━\u001b[0m\u001b[37m\u001b[0m \u001b[1m0s\u001b[0m 6ms/step - accuracy: 0.8360 - loss: 0.3734 - val_accuracy: 0.8206 - val_loss: 0.3957\n",
            "Epoch 66/100\n",
            "\u001b[1m22/22\u001b[0m \u001b[32m━━━━━━━━━━━━━━━━━━━━\u001b[0m\u001b[37m\u001b[0m \u001b[1m0s\u001b[0m 5ms/step - accuracy: 0.8203 - loss: 0.3798 - val_accuracy: 0.8206 - val_loss: 0.3957\n",
            "Epoch 67/100\n",
            "\u001b[1m22/22\u001b[0m \u001b[32m━━━━━━━━━━━━━━━━━━━━\u001b[0m\u001b[37m\u001b[0m \u001b[1m0s\u001b[0m 5ms/step - accuracy: 0.8291 - loss: 0.3855 - val_accuracy: 0.8206 - val_loss: 0.3964\n",
            "Epoch 68/100\n",
            "\u001b[1m22/22\u001b[0m \u001b[32m━━━━━━━━━━━━━━━━━━━━\u001b[0m\u001b[37m\u001b[0m \u001b[1m0s\u001b[0m 4ms/step - accuracy: 0.8386 - loss: 0.3544 - val_accuracy: 0.8176 - val_loss: 0.3949\n",
            "Epoch 69/100\n",
            "\u001b[1m22/22\u001b[0m \u001b[32m━━━━━━━━━━━━━━━━━━━━\u001b[0m\u001b[37m\u001b[0m \u001b[1m0s\u001b[0m 5ms/step - accuracy: 0.8366 - loss: 0.3597 - val_accuracy: 0.8088 - val_loss: 0.3950\n",
            "Epoch 70/100\n",
            "\u001b[1m22/22\u001b[0m \u001b[32m━━━━━━━━━━━━━━━━━━━━\u001b[0m\u001b[37m\u001b[0m \u001b[1m0s\u001b[0m 4ms/step - accuracy: 0.8352 - loss: 0.3689 - val_accuracy: 0.8118 - val_loss: 0.3960\n",
            "Epoch 71/100\n",
            "\u001b[1m22/22\u001b[0m \u001b[32m━━━━━━━━━━━━━━━━━━━━\u001b[0m\u001b[37m\u001b[0m \u001b[1m0s\u001b[0m 5ms/step - accuracy: 0.8494 - loss: 0.3659 - val_accuracy: 0.8147 - val_loss: 0.3970\n",
            "Epoch 72/100\n",
            "\u001b[1m22/22\u001b[0m \u001b[32m━━━━━━━━━━━━━━━━━━━━\u001b[0m\u001b[37m\u001b[0m \u001b[1m0s\u001b[0m 4ms/step - accuracy: 0.8435 - loss: 0.3641 - val_accuracy: 0.8118 - val_loss: 0.3956\n",
            "Epoch 73/100\n",
            "\u001b[1m22/22\u001b[0m \u001b[32m━━━━━━━━━━━━━━━━━━━━\u001b[0m\u001b[37m\u001b[0m \u001b[1m0s\u001b[0m 5ms/step - accuracy: 0.8481 - loss: 0.3480 - val_accuracy: 0.8088 - val_loss: 0.3953\n",
            "Epoch 74/100\n",
            "\u001b[1m22/22\u001b[0m \u001b[32m━━━━━━━━━━━━━━━━━━━━\u001b[0m\u001b[37m\u001b[0m \u001b[1m0s\u001b[0m 5ms/step - accuracy: 0.8517 - loss: 0.3431 - val_accuracy: 0.8147 - val_loss: 0.3956\n",
            "Epoch 75/100\n",
            "\u001b[1m22/22\u001b[0m \u001b[32m━━━━━━━━━━━━━━━━━━━━\u001b[0m\u001b[37m\u001b[0m \u001b[1m0s\u001b[0m 6ms/step - accuracy: 0.8493 - loss: 0.3487 - val_accuracy: 0.8147 - val_loss: 0.3975\n",
            "Epoch 76/100\n",
            "\u001b[1m22/22\u001b[0m \u001b[32m━━━━━━━━━━━━━━━━━━━━\u001b[0m\u001b[37m\u001b[0m \u001b[1m0s\u001b[0m 6ms/step - accuracy: 0.8511 - loss: 0.3426 - val_accuracy: 0.8147 - val_loss: 0.3964\n",
            "Epoch 77/100\n",
            "\u001b[1m22/22\u001b[0m \u001b[32m━━━━━━━━━━━━━━━━━━━━\u001b[0m\u001b[37m\u001b[0m \u001b[1m0s\u001b[0m 3ms/step - accuracy: 0.8318 - loss: 0.3825 - val_accuracy: 0.8147 - val_loss: 0.3955\n",
            "Epoch 78/100\n",
            "\u001b[1m22/22\u001b[0m \u001b[32m━━━━━━━━━━━━━━━━━━━━\u001b[0m\u001b[37m\u001b[0m \u001b[1m0s\u001b[0m 4ms/step - accuracy: 0.8300 - loss: 0.3780 - val_accuracy: 0.8118 - val_loss: 0.3959\n",
            "Epoch 79/100\n",
            "\u001b[1m22/22\u001b[0m \u001b[32m━━━━━━━━━━━━━━━━━━━━\u001b[0m\u001b[37m\u001b[0m \u001b[1m0s\u001b[0m 4ms/step - accuracy: 0.8264 - loss: 0.3768 - val_accuracy: 0.8118 - val_loss: 0.3952\n",
            "Epoch 80/100\n",
            "\u001b[1m22/22\u001b[0m \u001b[32m━━━━━━━━━━━━━━━━━━━━\u001b[0m\u001b[37m\u001b[0m \u001b[1m0s\u001b[0m 3ms/step - accuracy: 0.8497 - loss: 0.3514 - val_accuracy: 0.8147 - val_loss: 0.3948\n",
            "Epoch 81/100\n",
            "\u001b[1m22/22\u001b[0m \u001b[32m━━━━━━━━━━━━━━━━━━━━\u001b[0m\u001b[37m\u001b[0m \u001b[1m0s\u001b[0m 4ms/step - accuracy: 0.8555 - loss: 0.3412 - val_accuracy: 0.8118 - val_loss: 0.3943\n",
            "Epoch 82/100\n",
            "\u001b[1m22/22\u001b[0m \u001b[32m━━━━━━━━━━━━━━━━━━━━\u001b[0m\u001b[37m\u001b[0m \u001b[1m0s\u001b[0m 3ms/step - accuracy: 0.8373 - loss: 0.3534 - val_accuracy: 0.8176 - val_loss: 0.3954\n",
            "Epoch 83/100\n",
            "\u001b[1m22/22\u001b[0m \u001b[32m━━━━━━━━━━━━━━━━━━━━\u001b[0m\u001b[37m\u001b[0m \u001b[1m0s\u001b[0m 4ms/step - accuracy: 0.8564 - loss: 0.3398 - val_accuracy: 0.8176 - val_loss: 0.3951\n",
            "Epoch 84/100\n",
            "\u001b[1m22/22\u001b[0m \u001b[32m━━━━━━━━━━━━━━━━━━━━\u001b[0m\u001b[37m\u001b[0m \u001b[1m0s\u001b[0m 3ms/step - accuracy: 0.8364 - loss: 0.3600 - val_accuracy: 0.8147 - val_loss: 0.3936\n",
            "Epoch 85/100\n",
            "\u001b[1m22/22\u001b[0m \u001b[32m━━━━━━━━━━━━━━━━━━━━\u001b[0m\u001b[37m\u001b[0m \u001b[1m0s\u001b[0m 3ms/step - accuracy: 0.8502 - loss: 0.3552 - val_accuracy: 0.8176 - val_loss: 0.3949\n",
            "Epoch 86/100\n",
            "\u001b[1m22/22\u001b[0m \u001b[32m━━━━━━━━━━━━━━━━━━━━\u001b[0m\u001b[37m\u001b[0m \u001b[1m0s\u001b[0m 3ms/step - accuracy: 0.8490 - loss: 0.3582 - val_accuracy: 0.8147 - val_loss: 0.3936\n",
            "Epoch 87/100\n",
            "\u001b[1m22/22\u001b[0m \u001b[32m━━━━━━━━━━━━━━━━━━━━\u001b[0m\u001b[37m\u001b[0m \u001b[1m0s\u001b[0m 4ms/step - accuracy: 0.8430 - loss: 0.3565 - val_accuracy: 0.8147 - val_loss: 0.3941\n",
            "Epoch 88/100\n",
            "\u001b[1m22/22\u001b[0m \u001b[32m━━━━━━━━━━━━━━━━━━━━\u001b[0m\u001b[37m\u001b[0m \u001b[1m0s\u001b[0m 3ms/step - accuracy: 0.8508 - loss: 0.3508 - val_accuracy: 0.8206 - val_loss: 0.3951\n",
            "Epoch 89/100\n",
            "\u001b[1m22/22\u001b[0m \u001b[32m━━━━━━━━━━━━━━━━━━━━\u001b[0m\u001b[37m\u001b[0m \u001b[1m0s\u001b[0m 3ms/step - accuracy: 0.8448 - loss: 0.3449 - val_accuracy: 0.8176 - val_loss: 0.3939\n",
            "Epoch 90/100\n",
            "\u001b[1m22/22\u001b[0m \u001b[32m━━━━━━━━━━━━━━━━━━━━\u001b[0m\u001b[37m\u001b[0m \u001b[1m0s\u001b[0m 3ms/step - accuracy: 0.8478 - loss: 0.3466 - val_accuracy: 0.8176 - val_loss: 0.3928\n",
            "Epoch 91/100\n",
            "\u001b[1m22/22\u001b[0m \u001b[32m━━━━━━━━━━━━━━━━━━━━\u001b[0m\u001b[37m\u001b[0m \u001b[1m0s\u001b[0m 3ms/step - accuracy: 0.8436 - loss: 0.3568 - val_accuracy: 0.8176 - val_loss: 0.3952\n",
            "Epoch 92/100\n",
            "\u001b[1m22/22\u001b[0m \u001b[32m━━━━━━━━━━━━━━━━━━━━\u001b[0m\u001b[37m\u001b[0m \u001b[1m0s\u001b[0m 3ms/step - accuracy: 0.8620 - loss: 0.3338 - val_accuracy: 0.8147 - val_loss: 0.3946\n",
            "Epoch 93/100\n",
            "\u001b[1m22/22\u001b[0m \u001b[32m━━━━━━━━━━━━━━━━━━━━\u001b[0m\u001b[37m\u001b[0m \u001b[1m0s\u001b[0m 3ms/step - accuracy: 0.8324 - loss: 0.3770 - val_accuracy: 0.8176 - val_loss: 0.3923\n",
            "Epoch 94/100\n",
            "\u001b[1m22/22\u001b[0m \u001b[32m━━━━━━━━━━━━━━━━━━━━\u001b[0m\u001b[37m\u001b[0m \u001b[1m0s\u001b[0m 3ms/step - accuracy: 0.8441 - loss: 0.3586 - val_accuracy: 0.8206 - val_loss: 0.3930\n",
            "Epoch 95/100\n",
            "\u001b[1m22/22\u001b[0m \u001b[32m━━━━━━━━━━━━━━━━━━━━\u001b[0m\u001b[37m\u001b[0m \u001b[1m0s\u001b[0m 4ms/step - accuracy: 0.8623 - loss: 0.3258 - val_accuracy: 0.8176 - val_loss: 0.3937\n",
            "Epoch 96/100\n",
            "\u001b[1m22/22\u001b[0m \u001b[32m━━━━━━━━━━━━━━━━━━━━\u001b[0m\u001b[37m\u001b[0m \u001b[1m0s\u001b[0m 3ms/step - accuracy: 0.8475 - loss: 0.3661 - val_accuracy: 0.8206 - val_loss: 0.3933\n",
            "Epoch 97/100\n",
            "\u001b[1m22/22\u001b[0m \u001b[32m━━━━━━━━━━━━━━━━━━━━\u001b[0m\u001b[37m\u001b[0m \u001b[1m0s\u001b[0m 3ms/step - accuracy: 0.8386 - loss: 0.3574 - val_accuracy: 0.8206 - val_loss: 0.3932\n",
            "Epoch 98/100\n",
            "\u001b[1m22/22\u001b[0m \u001b[32m━━━━━━━━━━━━━━━━━━━━\u001b[0m\u001b[37m\u001b[0m \u001b[1m0s\u001b[0m 3ms/step - accuracy: 0.8459 - loss: 0.3511 - val_accuracy: 0.8206 - val_loss: 0.3932\n",
            "Epoch 99/100\n",
            "\u001b[1m22/22\u001b[0m \u001b[32m━━━━━━━━━━━━━━━━━━━━\u001b[0m\u001b[37m\u001b[0m \u001b[1m0s\u001b[0m 3ms/step - accuracy: 0.8460 - loss: 0.3516 - val_accuracy: 0.8265 - val_loss: 0.3941\n",
            "Epoch 100/100\n",
            "\u001b[1m22/22\u001b[0m \u001b[32m━━━━━━━━━━━━━━━━━━━━\u001b[0m\u001b[37m\u001b[0m \u001b[1m0s\u001b[0m 3ms/step - accuracy: 0.8424 - loss: 0.3495 - val_accuracy: 0.8265 - val_loss: 0.3933\n"
          ]
        }
      ]
    },
    {
      "cell_type": "code",
      "source": [
        "# Display the results\n",
        "print(f\"Set 1 - Training MSE: {train_mse_1}, Testing MSE: {test_mse_1}\")\n",
        "print(f\"Set 1 - Training Accuracy: {train_accuracy_1}, Testing Accuracy: {test_accuracy_1}\")\n",
        "print(f\"Set 2 - Training MSE: {train_mse_2}, Testing MSE: {test_mse_2}\")\n",
        "print(f\"Set 2 - Training Accuracy: {train_accuracy_2}, Testing Accuracy: {test_accuracy_2}\")\n"
      ],
      "metadata": {
        "colab": {
          "base_uri": "https://localhost:8080/"
        },
        "id": "bqCvIFFG7Th1",
        "outputId": "668f4469-b596-4ae3-b61f-aeca3384ed37"
      },
      "execution_count": null,
      "outputs": [
        {
          "output_type": "stream",
          "name": "stdout",
          "text": [
            "Set 1 - Training MSE: [0.7264705896377563, 0.804411768913269, 0.824999988079071, 0.8294117450714111, 0.8345588445663452, 0.8374999761581421, 0.8389706015586853, 0.8500000238418579, 0.846323549747467, 0.8507353067398071, 0.8514705896377563, 0.8500000238418579, 0.8566176295280457, 0.8551470637321472, 0.8558823466300964, 0.8558823466300964, 0.8566176295280457, 0.8588235378265381, 0.8617647290229797, 0.8683823347091675, 0.8647058606147766, 0.8661764860153198, 0.8632352948188782, 0.8639705777168274, 0.862500011920929, 0.8705882430076599, 0.8698529601097107, 0.8676470518112183, 0.8654412031173706, 0.8727940917015076, 0.8742647171020508, 0.866911768913269, 0.8772059082984924, 0.8808823823928833, 0.875, 0.8639705777168274, 0.8705882430076599, 0.8691176176071167, 0.8852941393852234, 0.8735294342041016, 0.8801470398902893, 0.8786764740943909, 0.875, 0.8808823823928833, 0.883088231086731, 0.8779411911964417, 0.8779411911964417, 0.8772059082984924, 0.8852941393852234, 0.8794117569923401], Testing MSE: [0.7441176176071167, 0.800000011920929, 0.8264706134796143, 0.8235294222831726, 0.8235294222831726, 0.8264706134796143, 0.8352941274642944, 0.8264706134796143, 0.8176470398902893, 0.8382353186607361, 0.820588231086731, 0.8529411554336548, 0.8323529362678528, 0.8470588326454163, 0.8323529362678528, 0.8500000238418579, 0.8470588326454163, 0.8558823466300964, 0.8558823466300964, 0.8617647290229797, 0.8588235378265381, 0.8617647290229797, 0.8558823466300964, 0.8588235378265381, 0.8617647290229797, 0.8529411554336548, 0.8676470518112183, 0.8647058606147766, 0.8529411554336548, 0.8794117569923401, 0.8647058606147766, 0.8647058606147766, 0.8735294342041016, 0.8676470518112183, 0.8617647290229797, 0.8617647290229797, 0.8588235378265381, 0.8735294342041016, 0.8735294342041016, 0.8647058606147766, 0.8617647290229797, 0.8735294342041016, 0.8647058606147766, 0.8705882430076599, 0.8676470518112183, 0.8764705657958984, 0.8735294342041016, 0.8735294342041016, 0.8647058606147766, 0.8852941393852234]\n",
            "Set 1 - Training Accuracy: [0.5635805130004883, 0.4262130856513977, 0.4055977463722229, 0.3932587504386902, 0.3878941833972931, 0.38486385345458984, 0.37510621547698975, 0.3731467127799988, 0.3667254149913788, 0.36317646503448486, 0.35801348090171814, 0.3551897704601288, 0.354518860578537, 0.35259389877319336, 0.3452247083187103, 0.34677138924598694, 0.34699204564094543, 0.34349003434181213, 0.34030094742774963, 0.33282411098480225, 0.33530765771865845, 0.33269521594047546, 0.33131951093673706, 0.3354366421699524, 0.3318883776664734, 0.32807326316833496, 0.3253604769706726, 0.32299908995628357, 0.32096976041793823, 0.31827738881111145, 0.3209490478038788, 0.32185328006744385, 0.31637513637542725, 0.313294380903244, 0.31495389342308044, 0.3261069357395172, 0.3178175389766693, 0.3110995292663574, 0.3150721788406372, 0.3129952549934387, 0.3082966208457947, 0.3048055171966553, 0.31054818630218506, 0.3028113543987274, 0.306741327047348, 0.3037419617176056, 0.30104395747184753, 0.3001767098903656, 0.29742616415023804, 0.29976776242256165], Testing Accuracy: [0.4725143313407898, 0.4375048875808716, 0.3973332643508911, 0.3942421078681946, 0.3936726152896881, 0.3893168270587921, 0.3810984790325165, 0.3912302851676941, 0.39769983291625977, 0.3791716694831848, 0.3872796893119812, 0.36744675040245056, 0.37600553035736084, 0.358973890542984, 0.35881227254867554, 0.3572000563144684, 0.35985442996025085, 0.34440481662750244, 0.36015915870666504, 0.34876224398612976, 0.34617045521736145, 0.33644193410873413, 0.34201791882514954, 0.339022159576416, 0.34536004066467285, 0.3463187515735626, 0.33334583044052124, 0.34034666419029236, 0.3301500976085663, 0.3220004141330719, 0.34812331199645996, 0.327615886926651, 0.3312544524669647, 0.3226522207260132, 0.36768215894699097, 0.32463735342025757, 0.35209381580352783, 0.32157236337661743, 0.31387442350387573, 0.3416929841041565, 0.32768356800079346, 0.32419347763061523, 0.3273060917854309, 0.3207438290119171, 0.338461697101593, 0.3274097442626953, 0.32561007142066956, 0.32116132974624634, 0.324534147977829, 0.3349222242832184]\n",
            "Set 2 - Training MSE: [0.637499988079071, 0.6727941036224365, 0.6963235139846802, 0.7183823585510254, 0.7286764979362488, 0.7426470518112183, 0.7485294342041016, 0.7602941393852234, 0.779411792755127, 0.7933823466300964, 0.800000011920929, 0.7985293865203857, 0.8058823347091675, 0.8117647171020508, 0.8154411911964417, 0.824999988079071, 0.8301470875740051, 0.833088219165802, 0.8367646932601929, 0.8404411673545837, 0.8441176414489746, 0.8433823585510254, 0.8426470756530762, 0.8441176414489746, 0.8426470756530762, 0.8433823585510254, 0.8426470756530762, 0.841176450252533, 0.8389706015586853, 0.8397058844566345, 0.8426470756530762, 0.8404411673545837, 0.8404411673545837, 0.841176450252533, 0.8433823585510254, 0.8404411673545837, 0.841176450252533, 0.841176450252533, 0.841176450252533, 0.841911792755127, 0.841176450252533, 0.8397058844566345, 0.8389706015586853, 0.8397058844566345, 0.8397058844566345, 0.8389706015586853, 0.8441176414489746, 0.845588207244873, 0.8441176414489746, 0.8426470756530762, 0.8426470756530762, 0.8448529243469238, 0.8426470756530762, 0.8448529243469238, 0.8448529243469238, 0.845588207244873, 0.845588207244873, 0.8441176414489746, 0.846323549747467, 0.8470588326454163, 0.8470588326454163, 0.8477941155433655, 0.845588207244873, 0.846323549747467, 0.8470588326454163, 0.8477941155433655, 0.8470588326454163, 0.846323549747467, 0.845588207244873, 0.8448529243469238, 0.8448529243469238, 0.8441176414489746, 0.8441176414489746, 0.845588207244873, 0.8470588326454163, 0.8470588326454163, 0.845588207244873, 0.846323549747467, 0.8441176414489746, 0.845588207244873, 0.8477941155433655, 0.846323549747467, 0.8485293984413147, 0.846323549747467, 0.8477941155433655, 0.8507353067398071, 0.8485293984413147, 0.8500000238418579, 0.845588207244873, 0.846323549747467, 0.846323549747467, 0.8492646813392639, 0.8492646813392639, 0.8470588326454163, 0.8485293984413147, 0.8485293984413147, 0.8485293984413147, 0.8485293984413147, 0.8485293984413147, 0.8470588326454163], Testing MSE: [0.6176470518112183, 0.6411764621734619, 0.6470588445663452, 0.6823529601097107, 0.6970587968826294, 0.7029411792755127, 0.7117646932601929, 0.7176470756530762, 0.7411764860153198, 0.7676470875740051, 0.7735294103622437, 0.7823529243469238, 0.779411792755127, 0.7882353067398071, 0.7882353067398071, 0.8029412031173706, 0.8058823347091675, 0.8058823347091675, 0.8117647171020508, 0.8147059082984924, 0.8147059082984924, 0.8235294222831726, 0.820588231086731, 0.8147059082984924, 0.820588231086731, 0.8176470398902893, 0.8147059082984924, 0.8176470398902893, 0.820588231086731, 0.8176470398902893, 0.8176470398902893, 0.8176470398902893, 0.820588231086731, 0.8176470398902893, 0.8147059082984924, 0.820588231086731, 0.820588231086731, 0.820588231086731, 0.8176470398902893, 0.8176470398902893, 0.820588231086731, 0.8147059082984924, 0.8176470398902893, 0.8235294222831726, 0.8264706134796143, 0.8176470398902893, 0.8264706134796143, 0.820588231086731, 0.8176470398902893, 0.8176470398902893, 0.820588231086731, 0.820588231086731, 0.8176470398902893, 0.8176470398902893, 0.8235294222831726, 0.820588231086731, 0.820588231086731, 0.8176470398902893, 0.8235294222831726, 0.820588231086731, 0.8264706134796143, 0.8235294222831726, 0.820588231086731, 0.8176470398902893, 0.820588231086731, 0.820588231086731, 0.820588231086731, 0.8176470398902893, 0.8088235259056091, 0.8117647171020508, 0.8147059082984924, 0.8117647171020508, 0.8088235259056091, 0.8147059082984924, 0.8147059082984924, 0.8147059082984924, 0.8147059082984924, 0.8117647171020508, 0.8117647171020508, 0.8147059082984924, 0.8117647171020508, 0.8176470398902893, 0.8176470398902893, 0.8147059082984924, 0.8176470398902893, 0.8147059082984924, 0.8147059082984924, 0.820588231086731, 0.8176470398902893, 0.8176470398902893, 0.8176470398902893, 0.8147059082984924, 0.8176470398902893, 0.820588231086731, 0.8176470398902893, 0.820588231086731, 0.820588231086731, 0.820588231086731, 0.8264706134796143, 0.8264706134796143]\n",
            "Set 2 - Training Accuracy: [0.6814665198326111, 0.6642772555351257, 0.645162045955658, 0.6232754588127136, 0.5993314385414124, 0.574941873550415, 0.5508138537406921, 0.5276150107383728, 0.5055391192436218, 0.48600345849990845, 0.46778810024261475, 0.45269259810447693, 0.4382290244102478, 0.42551836371421814, 0.41447049379348755, 0.4049760699272156, 0.3974364697933197, 0.39158180356025696, 0.3866822123527527, 0.38251814246177673, 0.37953853607177734, 0.3771848678588867, 0.37523239850997925, 0.3734319508075714, 0.37199532985687256, 0.37075328826904297, 0.36975136399269104, 0.3688718378543854, 0.36824536323547363, 0.3676820397377014, 0.36684030294418335, 0.36658409237861633, 0.36590927839279175, 0.36556491255760193, 0.3652156889438629, 0.36476030945777893, 0.36435866355895996, 0.36393511295318604, 0.3636225461959839, 0.3633776903152466, 0.3631163537502289, 0.3626471757888794, 0.3623947501182556, 0.36179882287979126, 0.36184996366500854, 0.3617227375507355, 0.36188411712646484, 0.3611573576927185, 0.3605685532093048, 0.3600214421749115, 0.3601290285587311, 0.3596174120903015, 0.3596387207508087, 0.3590121269226074, 0.35877084732055664, 0.3584267199039459, 0.3583950400352478, 0.3579583466053009, 0.35734468698501587, 0.3572816550731659, 0.35675114393234253, 0.3563067317008972, 0.35613518953323364, 0.355690062046051, 0.35537609457969666, 0.35522961616516113, 0.3549759089946747, 0.3545631766319275, 0.3545055389404297, 0.3539978861808777, 0.35423314571380615, 0.3535405099391937, 0.35326018929481506, 0.35302722454071045, 0.35296371579170227, 0.3526524603366852, 0.3524080514907837, 0.352267324924469, 0.35204988718032837, 0.35152482986450195, 0.35167667269706726, 0.3510880470275879, 0.3507305681705475, 0.3509383797645569, 0.3503815233707428, 0.3503517508506775, 0.3499511778354645, 0.350449800491333, 0.34950190782546997, 0.3498590290546417, 0.34926876425743103, 0.3495498299598694, 0.3491480052471161, 0.3490070402622223, 0.3487705886363983, 0.34853053092956543, 0.3482798933982849, 0.34809550642967224, 0.34784996509552, 0.3477006256580353], Testing Accuracy: [0.6789836287498474, 0.660963773727417, 0.64111328125, 0.6194847822189331, 0.5959073901176453, 0.5727174282073975, 0.5507572293281555, 0.5295360088348389, 0.5103771686553955, 0.4927217960357666, 0.4772292971611023, 0.4641360640525818, 0.452102929353714, 0.4421602189540863, 0.4343120753765106, 0.4263988137245178, 0.4208618700504303, 0.417172908782959, 0.41306671500205994, 0.4098425507545471, 0.4083256423473358, 0.4056883454322815, 0.4032943844795227, 0.40333929657936096, 0.4021906554698944, 0.4012533724308014, 0.4018302857875824, 0.4000849425792694, 0.39979517459869385, 0.39983391761779785, 0.3988546133041382, 0.39817461371421814, 0.39828306436538696, 0.398551344871521, 0.39962238073349, 0.3981841504573822, 0.3979765474796295, 0.398282527923584, 0.39785563945770264, 0.3983641266822815, 0.3968985974788666, 0.39744019508361816, 0.39730992913246155, 0.3968018889427185, 0.3954366445541382, 0.3963453471660614, 0.39460286498069763, 0.3963428735733032, 0.3963533341884613, 0.395982950925827, 0.39675867557525635, 0.3956262171268463, 0.39670437574386597, 0.3958415389060974, 0.39586693048477173, 0.3959006667137146, 0.39636799693107605, 0.3946039080619812, 0.3955518305301666, 0.39503854513168335, 0.39451804757118225, 0.39488616585731506, 0.396203875541687, 0.39560195803642273, 0.3957439064979553, 0.3957103192806244, 0.39644855260849, 0.3948900103569031, 0.3950326442718506, 0.39596790075302124, 0.3969988524913788, 0.39561790227890015, 0.39532938599586487, 0.39564791321754456, 0.3974500298500061, 0.3963885009288788, 0.39548298716545105, 0.39585813879966736, 0.3952341377735138, 0.3947828412055969, 0.39427655935287476, 0.3953641951084137, 0.3950962722301483, 0.39362993836402893, 0.39490002393722534, 0.3936171531677246, 0.3940679132938385, 0.3951455056667328, 0.3938503563404083, 0.39282357692718506, 0.3951663374900818, 0.394576758146286, 0.3922744691371918, 0.39300182461738586, 0.39365190267562866, 0.3932827115058899, 0.3931857943534851, 0.39320552349090576, 0.39407631754875183, 0.3932543098926544]\n"
          ]
        }
      ]
    },
    {
      "cell_type": "code",
      "source": [
        "import matplotlib.pyplot as plt\n",
        "# Plot training & validation accuracy and loss values for both sets of hyperparameters\n",
        "plt.figure(figsize=(12, 8))\n",
        "\n",
        "# Set 1\n",
        "plt.subplot(2, 2, 1)\n",
        "plt.plot(history_1.history['accuracy'])\n",
        "plt.plot(history_1.history['val_accuracy'])\n",
        "plt.title('Set 1 - Model accuracy')\n",
        "plt.ylabel('Accuracy')\n",
        "plt.xlabel('Epoch')\n",
        "plt.legend(['Train', 'Test'], loc='upper left')\n",
        "\n",
        "plt.subplot(2, 2, 2)\n",
        "plt.plot(history_1.history['loss'])\n",
        "plt.plot(history_1.history['val_loss'])\n",
        "plt.title('Set 1 - Model loss')\n",
        "plt.ylabel('Loss')\n",
        "plt.xlabel('Epoch')\n",
        "plt.legend(['Train', 'Test'], loc='upper left')\n",
        "\n",
        "# Set 2\n",
        "plt.subplot(2, 2, 3)\n",
        "plt.plot(history_2.history['accuracy'])\n",
        "plt.plot(history_2.history['val_accuracy'])\n",
        "plt.title('Set 2 - Model accuracy')\n",
        "plt.ylabel('Accuracy')\n",
        "plt.xlabel('Epoch')\n",
        "plt.legend(['Train', 'Test'], loc='upper left')\n",
        "\n",
        "plt.subplot(2, 2, 4)\n",
        "plt.plot(history_2.history['loss'])\n",
        "plt.plot(history_2.history['val_loss'])\n",
        "plt.title('Set 2 - Model loss')\n",
        "plt.ylabel('Loss')\n",
        "plt.xlabel('Epoch')\n",
        "plt.legend(['Train', 'Test'], loc='upper left')\n",
        "\n",
        "# Adjust layout to prevent overlap\n",
        "plt.tight_layout()\n",
        "\n",
        "# Display the plots\n",
        "plt.show()"
      ],
      "metadata": {
        "colab": {
          "base_uri": "https://localhost:8080/",
          "height": 807
        },
        "id": "XpuByjlk7Zg9",
        "outputId": "5449f6e0-2969-4b53-8275-490ed7b4be09"
      },
      "execution_count": null,
      "outputs": [
        {
          "output_type": "display_data",
          "data": {
            "text/plain": [
              "<Figure size 1200x800 with 4 Axes>"
            ],
            "image/png": "[encoded data removed]"
          },
          "metadata": {}
        }
      ]
    }
  ]
}